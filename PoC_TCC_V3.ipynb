{
  "nbformat": 4,
  "nbformat_minor": 0,
  "metadata": {
    "colab": {
      "provenance": [],
      "toc_visible": true,
      "gpuType": "T4",
      "authorship_tag": "ABX9TyOu4WQrgGDbUii9g456HLNs",
      "include_colab_link": true
    },
    "kernelspec": {
      "name": "python3",
      "display_name": "Python 3"
    },
    "language_info": {
      "name": "python"
    },
    "accelerator": "GPU"
  },
  "cells": [
    {
      "cell_type": "markdown",
      "metadata": {
        "id": "view-in-github",
        "colab_type": "text"
      },
      "source": [
        "<a href=\"https://colab.research.google.com/github/caiovitfernandes/CalcuLove/blob/main/PoC_TCC_V3.ipynb\" target=\"_parent\"><img src=\"https://colab.research.google.com/assets/colab-badge.svg\" alt=\"Open In Colab\"/></a>"
      ]
    },
    {
      "cell_type": "markdown",
      "source": [
        "## Prova de conceito (PoC) para o TCC de Sistemas de Informação: Análise comparativa de arquiteturas de redes neurais para detecção de cataratas em imagens clínicas, com ênfase na redução de falsos negativos\n",
        "* **Objetivo:** Esta prova de conceito tem por objetivo validar a complexidade técnica de se implementar uma rede neural convolucional para realização da tarefa de detecção de cataratas através de transfer learning. Servirá para análise do aluno acerca da viabilidade da execução da parte prática do TCC no tempo disponível para tal. Além disso, a PoC tem por objetivo criar uma baseline (ou um código base) para implementação futura no TCC.\n",
        "* **Aluno:** Caio Vitor Souza Fernandes\n",
        "* **Semestre/Ano:** 2/2025\n",
        "* **Versão:** 2.0\n",
        "* **Justificativa da versão**: Ajustes solicitados pelo orientador do TCC. Taxa de aprendizado inicial reduzida para 10e-4, ajustes nas camadas de dropout (redução da quantidade de neurônios removidos) e criação de callbacks costumizados para encontrar o menor recall mantendo uma acurácia mínima"
      ],
      "metadata": {
        "id": "30Pggz1Pe41e"
      }
    },
    {
      "cell_type": "markdown",
      "source": [
        "## Configuração do ambiente de execução"
      ],
      "metadata": {
        "id": "la9Kyo_Ve7D1"
      }
    },
    {
      "cell_type": "markdown",
      "source": [
        "### Instalação do Kaggle"
      ],
      "metadata": {
        "id": "rZovM85afnn3"
      }
    },
    {
      "cell_type": "code",
      "source": [
        "!pip install Kaggle"
      ],
      "metadata": {
        "colab": {
          "base_uri": "https://localhost:8080/"
        },
        "collapsed": true,
        "id": "cC-ZDRKlfp0v",
        "outputId": "92eb4848-0b5d-42ed-a48d-078892a76e13"
      },
      "execution_count": 1,
      "outputs": [
        {
          "output_type": "stream",
          "name": "stdout",
          "text": [
            "Requirement already satisfied: Kaggle in /usr/local/lib/python3.12/dist-packages (1.7.4.5)\n",
            "Requirement already satisfied: bleach in /usr/local/lib/python3.12/dist-packages (from Kaggle) (6.2.0)\n",
            "Requirement already satisfied: certifi>=14.05.14 in /usr/local/lib/python3.12/dist-packages (from Kaggle) (2025.8.3)\n",
            "Requirement already satisfied: charset-normalizer in /usr/local/lib/python3.12/dist-packages (from Kaggle) (3.4.3)\n",
            "Requirement already satisfied: idna in /usr/local/lib/python3.12/dist-packages (from Kaggle) (3.10)\n",
            "Requirement already satisfied: protobuf in /usr/local/lib/python3.12/dist-packages (from Kaggle) (5.29.5)\n",
            "Requirement already satisfied: python-dateutil>=2.5.3 in /usr/local/lib/python3.12/dist-packages (from Kaggle) (2.9.0.post0)\n",
            "Requirement already satisfied: python-slugify in /usr/local/lib/python3.12/dist-packages (from Kaggle) (8.0.4)\n",
            "Requirement already satisfied: requests in /usr/local/lib/python3.12/dist-packages (from Kaggle) (2.32.4)\n",
            "Requirement already satisfied: setuptools>=21.0.0 in /usr/local/lib/python3.12/dist-packages (from Kaggle) (75.2.0)\n",
            "Requirement already satisfied: six>=1.10 in /usr/local/lib/python3.12/dist-packages (from Kaggle) (1.17.0)\n",
            "Requirement already satisfied: text-unidecode in /usr/local/lib/python3.12/dist-packages (from Kaggle) (1.3)\n",
            "Requirement already satisfied: tqdm in /usr/local/lib/python3.12/dist-packages (from Kaggle) (4.67.1)\n",
            "Requirement already satisfied: urllib3>=1.15.1 in /usr/local/lib/python3.12/dist-packages (from Kaggle) (2.5.0)\n",
            "Requirement already satisfied: webencodings in /usr/local/lib/python3.12/dist-packages (from Kaggle) (0.5.1)\n"
          ]
        }
      ]
    },
    {
      "cell_type": "markdown",
      "source": [
        "### Importação das bibliotecas necessárias"
      ],
      "metadata": {
        "id": "4EZt8EB-f-7d"
      }
    },
    {
      "cell_type": "code",
      "source": [
        "# Ambiente de execução\n",
        "import os       # para trabalhar com o sistema operacional\n",
        "import shutil   # para mover e copiar arquivos e pastas\n",
        "import random   # para gerar números aleatórios na divisão de dados\n",
        "from google.colab import files # para trabalhar com arquivos no google.colab\n",
        "\n",
        "# Machine Learning\n",
        "import tensorflow as tf\n",
        "from tensorflow import keras\n",
        "from tensorflow.keras.preprocessing.image import ImageDataGenerator\n",
        "from tensorflow.keras.applications import VGG16\n",
        "from tensorflow.keras import layers\n",
        "from tensorflow.keras.layers import Dense, Dropout, GlobalAveragePooling2D\n",
        "from tensorflow.keras.models import Model\n",
        "from tensorflow.keras.callbacks import EarlyStopping, ReduceLROnPlateau, ModelCheckpoint\n",
        "from tensorflow.keras.callbacks import Callback # Para personalizar os callbacks\n",
        "\n",
        "# Métricas de ML\n",
        "from sklearn.metrics import confusion_matrix, accuracy_score, precision_score, recall_score, f1_score, classification_report\n",
        "\n",
        "# Representação gráfica\n",
        "import matplotlib.pyplot as plt # para plotar gráficos\n",
        "import seaborn as sns"
      ],
      "metadata": {
        "id": "Ee7p0eZugB0B"
      },
      "execution_count": 2,
      "outputs": []
    },
    {
      "cell_type": "markdown",
      "source": [
        "### Verificando a GPU que está disponível"
      ],
      "metadata": {
        "id": "QxZG8NethyI_"
      }
    },
    {
      "cell_type": "code",
      "source": [
        "print(f\"GPU disponível no ambiente: {tf.config.list_physical_devices('GPU')}\")"
      ],
      "metadata": {
        "colab": {
          "base_uri": "https://localhost:8080/"
        },
        "id": "ZOjCYtFWh1ou",
        "outputId": "41de1dec-e89d-4317-d184-f334f2017cd6"
      },
      "execution_count": 3,
      "outputs": [
        {
          "output_type": "stream",
          "name": "stdout",
          "text": [
            "GPU disponível no ambiente: [PhysicalDevice(name='/physical_device:GPU:0', device_type='GPU')]\n"
          ]
        }
      ]
    },
    {
      "cell_type": "markdown",
      "source": [
        "### Setando a seed a ser usada no random para garantir a reprodutibilidade"
      ],
      "metadata": {
        "id": "avtG_rQ6iRSo"
      }
    },
    {
      "cell_type": "code",
      "source": [
        "random.seed(100)"
      ],
      "metadata": {
        "id": "hlT-R-CQiXuo"
      },
      "execution_count": 4,
      "outputs": []
    },
    {
      "cell_type": "markdown",
      "source": [
        "## Download e acomodação do dataset"
      ],
      "metadata": {
        "id": "sBLCV9bse_Jd"
      }
    },
    {
      "cell_type": "markdown",
      "source": [
        "### Subindo a chave de API do Kaggle\n",
        "\n"
      ],
      "metadata": {
        "id": "Gl5gS1mqi1pp"
      }
    },
    {
      "cell_type": "code",
      "source": [
        "files.upload() # Abre uma caixa para que eu suba o arquivo\n",
        "!mkdir -p ~/.kaggle # Cria uma pasta ~/.kaggle\n",
        "!cp kaggle.json ~/.kaggle/ # Move o arquivo kaggle.json para a pasta ~/.kaggle\n",
        "!chmod 600 ~/.kaggle/kaggle.json # Define as permissões do arquivo kaggle.json para 600 (isso quer dizer que só eu posso ler e escrever no arquivo)"
      ],
      "metadata": {
        "colab": {
          "base_uri": "https://localhost:8080/",
          "height": 73
        },
        "id": "ZBPxOhuUjCn2",
        "outputId": "919a0d44-e9ff-4750-b8ce-6d2e595a9c45"
      },
      "execution_count": 5,
      "outputs": [
        {
          "output_type": "display_data",
          "data": {
            "text/plain": [
              "<IPython.core.display.HTML object>"
            ],
            "text/html": [
              "\n",
              "     <input type=\"file\" id=\"files-3633de95-5258-4fbe-836d-4b036b03fae5\" name=\"files[]\" multiple disabled\n",
              "        style=\"border:none\" />\n",
              "     <output id=\"result-3633de95-5258-4fbe-836d-4b036b03fae5\">\n",
              "      Upload widget is only available when the cell has been executed in the\n",
              "      current browser session. Please rerun this cell to enable.\n",
              "      </output>\n",
              "      <script>// Copyright 2017 Google LLC\n",
              "//\n",
              "// Licensed under the Apache License, Version 2.0 (the \"License\");\n",
              "// you may not use this file except in compliance with the License.\n",
              "// You may obtain a copy of the License at\n",
              "//\n",
              "//      http://www.apache.org/licenses/LICENSE-2.0\n",
              "//\n",
              "// Unless required by applicable law or agreed to in writing, software\n",
              "// distributed under the License is distributed on an \"AS IS\" BASIS,\n",
              "// WITHOUT WARRANTIES OR CONDITIONS OF ANY KIND, either express or implied.\n",
              "// See the License for the specific language governing permissions and\n",
              "// limitations under the License.\n",
              "\n",
              "/**\n",
              " * @fileoverview Helpers for google.colab Python module.\n",
              " */\n",
              "(function(scope) {\n",
              "function span(text, styleAttributes = {}) {\n",
              "  const element = document.createElement('span');\n",
              "  element.textContent = text;\n",
              "  for (const key of Object.keys(styleAttributes)) {\n",
              "    element.style[key] = styleAttributes[key];\n",
              "  }\n",
              "  return element;\n",
              "}\n",
              "\n",
              "// Max number of bytes which will be uploaded at a time.\n",
              "const MAX_PAYLOAD_SIZE = 100 * 1024;\n",
              "\n",
              "function _uploadFiles(inputId, outputId) {\n",
              "  const steps = uploadFilesStep(inputId, outputId);\n",
              "  const outputElement = document.getElementById(outputId);\n",
              "  // Cache steps on the outputElement to make it available for the next call\n",
              "  // to uploadFilesContinue from Python.\n",
              "  outputElement.steps = steps;\n",
              "\n",
              "  return _uploadFilesContinue(outputId);\n",
              "}\n",
              "\n",
              "// This is roughly an async generator (not supported in the browser yet),\n",
              "// where there are multiple asynchronous steps and the Python side is going\n",
              "// to poll for completion of each step.\n",
              "// This uses a Promise to block the python side on completion of each step,\n",
              "// then passes the result of the previous step as the input to the next step.\n",
              "function _uploadFilesContinue(outputId) {\n",
              "  const outputElement = document.getElementById(outputId);\n",
              "  const steps = outputElement.steps;\n",
              "\n",
              "  const next = steps.next(outputElement.lastPromiseValue);\n",
              "  return Promise.resolve(next.value.promise).then((value) => {\n",
              "    // Cache the last promise value to make it available to the next\n",
              "    // step of the generator.\n",
              "    outputElement.lastPromiseValue = value;\n",
              "    return next.value.response;\n",
              "  });\n",
              "}\n",
              "\n",
              "/**\n",
              " * Generator function which is called between each async step of the upload\n",
              " * process.\n",
              " * @param {string} inputId Element ID of the input file picker element.\n",
              " * @param {string} outputId Element ID of the output display.\n",
              " * @return {!Iterable<!Object>} Iterable of next steps.\n",
              " */\n",
              "function* uploadFilesStep(inputId, outputId) {\n",
              "  const inputElement = document.getElementById(inputId);\n",
              "  inputElement.disabled = false;\n",
              "\n",
              "  const outputElement = document.getElementById(outputId);\n",
              "  outputElement.innerHTML = '';\n",
              "\n",
              "  const pickedPromise = new Promise((resolve) => {\n",
              "    inputElement.addEventListener('change', (e) => {\n",
              "      resolve(e.target.files);\n",
              "    });\n",
              "  });\n",
              "\n",
              "  const cancel = document.createElement('button');\n",
              "  inputElement.parentElement.appendChild(cancel);\n",
              "  cancel.textContent = 'Cancel upload';\n",
              "  const cancelPromise = new Promise((resolve) => {\n",
              "    cancel.onclick = () => {\n",
              "      resolve(null);\n",
              "    };\n",
              "  });\n",
              "\n",
              "  // Wait for the user to pick the files.\n",
              "  const files = yield {\n",
              "    promise: Promise.race([pickedPromise, cancelPromise]),\n",
              "    response: {\n",
              "      action: 'starting',\n",
              "    }\n",
              "  };\n",
              "\n",
              "  cancel.remove();\n",
              "\n",
              "  // Disable the input element since further picks are not allowed.\n",
              "  inputElement.disabled = true;\n",
              "\n",
              "  if (!files) {\n",
              "    return {\n",
              "      response: {\n",
              "        action: 'complete',\n",
              "      }\n",
              "    };\n",
              "  }\n",
              "\n",
              "  for (const file of files) {\n",
              "    const li = document.createElement('li');\n",
              "    li.append(span(file.name, {fontWeight: 'bold'}));\n",
              "    li.append(span(\n",
              "        `(${file.type || 'n/a'}) - ${file.size} bytes, ` +\n",
              "        `last modified: ${\n",
              "            file.lastModifiedDate ? file.lastModifiedDate.toLocaleDateString() :\n",
              "                                    'n/a'} - `));\n",
              "    const percent = span('0% done');\n",
              "    li.appendChild(percent);\n",
              "\n",
              "    outputElement.appendChild(li);\n",
              "\n",
              "    const fileDataPromise = new Promise((resolve) => {\n",
              "      const reader = new FileReader();\n",
              "      reader.onload = (e) => {\n",
              "        resolve(e.target.result);\n",
              "      };\n",
              "      reader.readAsArrayBuffer(file);\n",
              "    });\n",
              "    // Wait for the data to be ready.\n",
              "    let fileData = yield {\n",
              "      promise: fileDataPromise,\n",
              "      response: {\n",
              "        action: 'continue',\n",
              "      }\n",
              "    };\n",
              "\n",
              "    // Use a chunked sending to avoid message size limits. See b/62115660.\n",
              "    let position = 0;\n",
              "    do {\n",
              "      const length = Math.min(fileData.byteLength - position, MAX_PAYLOAD_SIZE);\n",
              "      const chunk = new Uint8Array(fileData, position, length);\n",
              "      position += length;\n",
              "\n",
              "      const base64 = btoa(String.fromCharCode.apply(null, chunk));\n",
              "      yield {\n",
              "        response: {\n",
              "          action: 'append',\n",
              "          file: file.name,\n",
              "          data: base64,\n",
              "        },\n",
              "      };\n",
              "\n",
              "      let percentDone = fileData.byteLength === 0 ?\n",
              "          100 :\n",
              "          Math.round((position / fileData.byteLength) * 100);\n",
              "      percent.textContent = `${percentDone}% done`;\n",
              "\n",
              "    } while (position < fileData.byteLength);\n",
              "  }\n",
              "\n",
              "  // All done.\n",
              "  yield {\n",
              "    response: {\n",
              "      action: 'complete',\n",
              "    }\n",
              "  };\n",
              "}\n",
              "\n",
              "scope.google = scope.google || {};\n",
              "scope.google.colab = scope.google.colab || {};\n",
              "scope.google.colab._files = {\n",
              "  _uploadFiles,\n",
              "  _uploadFilesContinue,\n",
              "};\n",
              "})(self);\n",
              "</script> "
            ]
          },
          "metadata": {}
        },
        {
          "output_type": "stream",
          "name": "stdout",
          "text": [
            "Saving kaggle.json to kaggle.json\n"
          ]
        }
      ]
    },
    {
      "cell_type": "markdown",
      "source": [
        "### Fazendo o download do dataset"
      ],
      "metadata": {
        "id": "DPL2Ky8Cjlvj"
      }
    },
    {
      "cell_type": "code",
      "source": [
        "!kaggle datasets download -d nandanp6/cataract-image-dataset # Baixa o dataset\n",
        "!unzip cataract-image-dataset.zip # Descompacta o arquivo baixado"
      ],
      "metadata": {
        "colab": {
          "base_uri": "https://localhost:8080/"
        },
        "collapsed": true,
        "id": "CGXFSaWfjqJ7",
        "outputId": "2c19929b-4084-4251-ff21-ab7b7d416d3d"
      },
      "execution_count": 6,
      "outputs": [
        {
          "output_type": "stream",
          "name": "stdout",
          "text": [
            "Dataset URL: https://www.kaggle.com/datasets/nandanp6/cataract-image-dataset\n",
            "License(s): copyright-authors\n",
            "Downloading cataract-image-dataset.zip to /content\n",
            " 89% 450M/503M [00:02<00:00, 88.8MB/s]\n",
            "100% 503M/503M [00:02<00:00, 178MB/s] \n",
            "Archive:  cataract-image-dataset.zip\n",
            "  inflating: processed_images/test/cataract/image_246.png  \n",
            "  inflating: processed_images/test/cataract/image_247.png  \n",
            "  inflating: processed_images/test/cataract/image_248.png  \n",
            "  inflating: processed_images/test/cataract/image_249.png  \n",
            "  inflating: processed_images/test/cataract/image_250.png  \n",
            "  inflating: processed_images/test/cataract/image_251.png  \n",
            "  inflating: processed_images/test/cataract/image_252.png  \n",
            "  inflating: processed_images/test/cataract/image_253.png  \n",
            "  inflating: processed_images/test/cataract/image_254.png  \n",
            "  inflating: processed_images/test/cataract/image_255.png  \n",
            "  inflating: processed_images/test/cataract/image_256.png  \n",
            "  inflating: processed_images/test/cataract/image_257.png  \n",
            "  inflating: processed_images/test/cataract/image_258.png  \n",
            "  inflating: processed_images/test/cataract/image_259.png  \n",
            "  inflating: processed_images/test/cataract/image_260.png  \n",
            "  inflating: processed_images/test/cataract/image_261.png  \n",
            "  inflating: processed_images/test/cataract/image_262.png  \n",
            "  inflating: processed_images/test/cataract/image_263.png  \n",
            "  inflating: processed_images/test/cataract/image_264.png  \n",
            "  inflating: processed_images/test/cataract/image_265.png  \n",
            "  inflating: processed_images/test/cataract/image_266.png  \n",
            "  inflating: processed_images/test/cataract/image_267.png  \n",
            "  inflating: processed_images/test/cataract/image_268.png  \n",
            "  inflating: processed_images/test/cataract/image_269.png  \n",
            "  inflating: processed_images/test/cataract/image_270.png  \n",
            "  inflating: processed_images/test/cataract/image_271.png  \n",
            "  inflating: processed_images/test/cataract/image_272.png  \n",
            "  inflating: processed_images/test/cataract/image_273.png  \n",
            "  inflating: processed_images/test/cataract/image_274.png  \n",
            "  inflating: processed_images/test/cataract/image_275.png  \n",
            "  inflating: processed_images/test/cataract/image_276.png  \n",
            "  inflating: processed_images/test/cataract/image_277.png  \n",
            "  inflating: processed_images/test/cataract/image_278.png  \n",
            "  inflating: processed_images/test/cataract/image_279.png  \n",
            "  inflating: processed_images/test/cataract/image_280.png  \n",
            "  inflating: processed_images/test/cataract/image_281.png  \n",
            "  inflating: processed_images/test/cataract/image_282.png  \n",
            "  inflating: processed_images/test/cataract/image_283.png  \n",
            "  inflating: processed_images/test/cataract/image_284.png  \n",
            "  inflating: processed_images/test/cataract/image_285.png  \n",
            "  inflating: processed_images/test/cataract/image_286.png  \n",
            "  inflating: processed_images/test/cataract/image_287.png  \n",
            "  inflating: processed_images/test/cataract/image_288.png  \n",
            "  inflating: processed_images/test/cataract/image_289.png  \n",
            "  inflating: processed_images/test/cataract/image_290.png  \n",
            "  inflating: processed_images/test/cataract/image_291.png  \n",
            "  inflating: processed_images/test/cataract/image_292.png  \n",
            "  inflating: processed_images/test/cataract/image_293.png  \n",
            "  inflating: processed_images/test/cataract/image_294.png  \n",
            "  inflating: processed_images/test/cataract/image_295.png  \n",
            "  inflating: processed_images/test/cataract/image_296.png  \n",
            "  inflating: processed_images/test/cataract/image_297.png  \n",
            "  inflating: processed_images/test/cataract/image_298.png  \n",
            "  inflating: processed_images/test/cataract/image_299.png  \n",
            "  inflating: processed_images/test/cataract/image_300.png  \n",
            "  inflating: processed_images/test/cataract/image_301.png  \n",
            "  inflating: processed_images/test/cataract/image_302.png  \n",
            "  inflating: processed_images/test/cataract/image_303.png  \n",
            "  inflating: processed_images/test/cataract/image_304.png  \n",
            "  inflating: processed_images/test/cataract/image_305.png  \n",
            "  inflating: processed_images/test/cataract/image_306.png  \n",
            "  inflating: processed_images/test/normal/image_246.png  \n",
            "  inflating: processed_images/test/normal/image_247.png  \n",
            "  inflating: processed_images/test/normal/image_248.png  \n",
            "  inflating: processed_images/test/normal/image_249.png  \n",
            "  inflating: processed_images/test/normal/image_250.png  \n",
            "  inflating: processed_images/test/normal/image_251.png  \n",
            "  inflating: processed_images/test/normal/image_252.png  \n",
            "  inflating: processed_images/test/normal/image_253.png  \n",
            "  inflating: processed_images/test/normal/image_254.png  \n",
            "  inflating: processed_images/test/normal/image_255.png  \n",
            "  inflating: processed_images/test/normal/image_256.png  \n",
            "  inflating: processed_images/test/normal/image_257.png  \n",
            "  inflating: processed_images/test/normal/image_258.png  \n",
            "  inflating: processed_images/test/normal/image_259.png  \n",
            "  inflating: processed_images/test/normal/image_260.png  \n",
            "  inflating: processed_images/test/normal/image_261.png  \n",
            "  inflating: processed_images/test/normal/image_262.png  \n",
            "  inflating: processed_images/test/normal/image_263.png  \n",
            "  inflating: processed_images/test/normal/image_264.png  \n",
            "  inflating: processed_images/test/normal/image_265.png  \n",
            "  inflating: processed_images/test/normal/image_266.png  \n",
            "  inflating: processed_images/test/normal/image_267.png  \n",
            "  inflating: processed_images/test/normal/image_268.png  \n",
            "  inflating: processed_images/test/normal/image_269.png  \n",
            "  inflating: processed_images/test/normal/image_270.png  \n",
            "  inflating: processed_images/test/normal/image_271.png  \n",
            "  inflating: processed_images/test/normal/image_272.png  \n",
            "  inflating: processed_images/test/normal/image_273.png  \n",
            "  inflating: processed_images/test/normal/image_274.png  \n",
            "  inflating: processed_images/test/normal/image_275.png  \n",
            "  inflating: processed_images/test/normal/image_276.png  \n",
            "  inflating: processed_images/test/normal/image_277.png  \n",
            "  inflating: processed_images/test/normal/image_278.png  \n",
            "  inflating: processed_images/test/normal/image_279.png  \n",
            "  inflating: processed_images/test/normal/image_280.png  \n",
            "  inflating: processed_images/test/normal/image_281.png  \n",
            "  inflating: processed_images/test/normal/image_282.png  \n",
            "  inflating: processed_images/test/normal/image_283.png  \n",
            "  inflating: processed_images/test/normal/image_284.png  \n",
            "  inflating: processed_images/test/normal/image_285.png  \n",
            "  inflating: processed_images/test/normal/image_286.png  \n",
            "  inflating: processed_images/test/normal/image_287.png  \n",
            "  inflating: processed_images/test/normal/image_288.png  \n",
            "  inflating: processed_images/test/normal/image_289.png  \n",
            "  inflating: processed_images/test/normal/image_290.png  \n",
            "  inflating: processed_images/test/normal/image_291.png  \n",
            "  inflating: processed_images/test/normal/image_292.png  \n",
            "  inflating: processed_images/test/normal/image_293.png  \n",
            "  inflating: processed_images/test/normal/image_294.png  \n",
            "  inflating: processed_images/test/normal/image_295.png  \n",
            "  inflating: processed_images/test/normal/image_296.png  \n",
            "  inflating: processed_images/test/normal/image_297.png  \n",
            "  inflating: processed_images/test/normal/image_298.png  \n",
            "  inflating: processed_images/test/normal/image_299.png  \n",
            "  inflating: processed_images/test/normal/image_300.png  \n",
            "  inflating: processed_images/test/normal/image_301.png  \n",
            "  inflating: processed_images/test/normal/image_302.png  \n",
            "  inflating: processed_images/test/normal/image_303.png  \n",
            "  inflating: processed_images/test/normal/image_304.png  \n",
            "  inflating: processed_images/test/normal/image_305.png  \n",
            "  inflating: processed_images/train/cataract/image_1.png  \n",
            "  inflating: processed_images/train/cataract/image_10.png  \n",
            "  inflating: processed_images/train/cataract/image_100.png  \n",
            "  inflating: processed_images/train/cataract/image_101.png  \n",
            "  inflating: processed_images/train/cataract/image_102.png  \n",
            "  inflating: processed_images/train/cataract/image_103.png  \n",
            "  inflating: processed_images/train/cataract/image_104.png  \n",
            "  inflating: processed_images/train/cataract/image_105.png  \n",
            "  inflating: processed_images/train/cataract/image_106.png  \n",
            "  inflating: processed_images/train/cataract/image_107.png  \n",
            "  inflating: processed_images/train/cataract/image_108.png  \n",
            "  inflating: processed_images/train/cataract/image_109.png  \n",
            "  inflating: processed_images/train/cataract/image_11.png  \n",
            "  inflating: processed_images/train/cataract/image_110.png  \n",
            "  inflating: processed_images/train/cataract/image_111.png  \n",
            "  inflating: processed_images/train/cataract/image_112.png  \n",
            "  inflating: processed_images/train/cataract/image_113.png  \n",
            "  inflating: processed_images/train/cataract/image_114.png  \n",
            "  inflating: processed_images/train/cataract/image_115.png  \n",
            "  inflating: processed_images/train/cataract/image_116.png  \n",
            "  inflating: processed_images/train/cataract/image_117.png  \n",
            "  inflating: processed_images/train/cataract/image_118.png  \n",
            "  inflating: processed_images/train/cataract/image_119.png  \n",
            "  inflating: processed_images/train/cataract/image_12.png  \n",
            "  inflating: processed_images/train/cataract/image_120.png  \n",
            "  inflating: processed_images/train/cataract/image_121.png  \n",
            "  inflating: processed_images/train/cataract/image_122.png  \n",
            "  inflating: processed_images/train/cataract/image_123.png  \n",
            "  inflating: processed_images/train/cataract/image_124.png  \n",
            "  inflating: processed_images/train/cataract/image_125.png  \n",
            "  inflating: processed_images/train/cataract/image_126.png  \n",
            "  inflating: processed_images/train/cataract/image_127.png  \n",
            "  inflating: processed_images/train/cataract/image_128.png  \n",
            "  inflating: processed_images/train/cataract/image_129.png  \n",
            "  inflating: processed_images/train/cataract/image_13.png  \n",
            "  inflating: processed_images/train/cataract/image_130.png  \n",
            "  inflating: processed_images/train/cataract/image_131.png  \n",
            "  inflating: processed_images/train/cataract/image_132.png  \n",
            "  inflating: processed_images/train/cataract/image_133.png  \n",
            "  inflating: processed_images/train/cataract/image_134.png  \n",
            "  inflating: processed_images/train/cataract/image_135.png  \n",
            "  inflating: processed_images/train/cataract/image_136.png  \n",
            "  inflating: processed_images/train/cataract/image_137.png  \n",
            "  inflating: processed_images/train/cataract/image_138.png  \n",
            "  inflating: processed_images/train/cataract/image_139.png  \n",
            "  inflating: processed_images/train/cataract/image_14.png  \n",
            "  inflating: processed_images/train/cataract/image_140.png  \n",
            "  inflating: processed_images/train/cataract/image_141.png  \n",
            "  inflating: processed_images/train/cataract/image_142.png  \n",
            "  inflating: processed_images/train/cataract/image_143.png  \n",
            "  inflating: processed_images/train/cataract/image_144.png  \n",
            "  inflating: processed_images/train/cataract/image_145.png  \n",
            "  inflating: processed_images/train/cataract/image_146.png  \n",
            "  inflating: processed_images/train/cataract/image_147.png  \n",
            "  inflating: processed_images/train/cataract/image_148.png  \n",
            "  inflating: processed_images/train/cataract/image_149.png  \n",
            "  inflating: processed_images/train/cataract/image_15.png  \n",
            "  inflating: processed_images/train/cataract/image_150.png  \n",
            "  inflating: processed_images/train/cataract/image_151.png  \n",
            "  inflating: processed_images/train/cataract/image_152.png  \n",
            "  inflating: processed_images/train/cataract/image_153.png  \n",
            "  inflating: processed_images/train/cataract/image_154.png  \n",
            "  inflating: processed_images/train/cataract/image_155.png  \n",
            "  inflating: processed_images/train/cataract/image_156.png  \n",
            "  inflating: processed_images/train/cataract/image_157.png  \n",
            "  inflating: processed_images/train/cataract/image_158.png  \n",
            "  inflating: processed_images/train/cataract/image_159.png  \n",
            "  inflating: processed_images/train/cataract/image_16.png  \n",
            "  inflating: processed_images/train/cataract/image_160.png  \n",
            "  inflating: processed_images/train/cataract/image_161.png  \n",
            "  inflating: processed_images/train/cataract/image_162.png  \n",
            "  inflating: processed_images/train/cataract/image_163.png  \n",
            "  inflating: processed_images/train/cataract/image_164.png  \n",
            "  inflating: processed_images/train/cataract/image_165.png  \n",
            "  inflating: processed_images/train/cataract/image_166.png  \n",
            "  inflating: processed_images/train/cataract/image_167.png  \n",
            "  inflating: processed_images/train/cataract/image_168.png  \n",
            "  inflating: processed_images/train/cataract/image_169.png  \n",
            "  inflating: processed_images/train/cataract/image_17.png  \n",
            "  inflating: processed_images/train/cataract/image_170.png  \n",
            "  inflating: processed_images/train/cataract/image_171.png  \n",
            "  inflating: processed_images/train/cataract/image_172.png  \n",
            "  inflating: processed_images/train/cataract/image_173.png  \n",
            "  inflating: processed_images/train/cataract/image_174.png  \n",
            "  inflating: processed_images/train/cataract/image_175.png  \n",
            "  inflating: processed_images/train/cataract/image_176.png  \n",
            "  inflating: processed_images/train/cataract/image_177.png  \n",
            "  inflating: processed_images/train/cataract/image_178.png  \n",
            "  inflating: processed_images/train/cataract/image_179.png  \n",
            "  inflating: processed_images/train/cataract/image_18.png  \n",
            "  inflating: processed_images/train/cataract/image_180.png  \n",
            "  inflating: processed_images/train/cataract/image_181.png  \n",
            "  inflating: processed_images/train/cataract/image_182.png  \n",
            "  inflating: processed_images/train/cataract/image_183.png  \n",
            "  inflating: processed_images/train/cataract/image_184.png  \n",
            "  inflating: processed_images/train/cataract/image_185.png  \n",
            "  inflating: processed_images/train/cataract/image_186.png  \n",
            "  inflating: processed_images/train/cataract/image_187.png  \n",
            "  inflating: processed_images/train/cataract/image_188.png  \n",
            "  inflating: processed_images/train/cataract/image_189.png  \n",
            "  inflating: processed_images/train/cataract/image_190.png  \n",
            "  inflating: processed_images/train/cataract/image_191.png  \n",
            "  inflating: processed_images/train/cataract/image_192.png  \n",
            "  inflating: processed_images/train/cataract/image_193.png  \n",
            "  inflating: processed_images/train/cataract/image_194.png  \n",
            "  inflating: processed_images/train/cataract/image_195.png  \n",
            "  inflating: processed_images/train/cataract/image_196.png  \n",
            "  inflating: processed_images/train/cataract/image_197.png  \n",
            "  inflating: processed_images/train/cataract/image_198.png  \n",
            "  inflating: processed_images/train/cataract/image_199.png  \n",
            "  inflating: processed_images/train/cataract/image_2.png  \n",
            "  inflating: processed_images/train/cataract/image_20.png  \n",
            "  inflating: processed_images/train/cataract/image_200.png  \n",
            "  inflating: processed_images/train/cataract/image_201.png  \n",
            "  inflating: processed_images/train/cataract/image_202.png  \n",
            "  inflating: processed_images/train/cataract/image_203.png  \n",
            "  inflating: processed_images/train/cataract/image_204.png  \n",
            "  inflating: processed_images/train/cataract/image_205.png  \n",
            "  inflating: processed_images/train/cataract/image_206.png  \n",
            "  inflating: processed_images/train/cataract/image_207.png  \n",
            "  inflating: processed_images/train/cataract/image_208.png  \n",
            "  inflating: processed_images/train/cataract/image_209.png  \n",
            "  inflating: processed_images/train/cataract/image_21.png  \n",
            "  inflating: processed_images/train/cataract/image_210.png  \n",
            "  inflating: processed_images/train/cataract/image_211.png  \n",
            "  inflating: processed_images/train/cataract/image_212.png  \n",
            "  inflating: processed_images/train/cataract/image_213.png  \n",
            "  inflating: processed_images/train/cataract/image_214.png  \n",
            "  inflating: processed_images/train/cataract/image_215.png  \n",
            "  inflating: processed_images/train/cataract/image_216.png  \n",
            "  inflating: processed_images/train/cataract/image_217.png  \n",
            "  inflating: processed_images/train/cataract/image_218.png  \n",
            "  inflating: processed_images/train/cataract/image_219.png  \n",
            "  inflating: processed_images/train/cataract/image_22.png  \n",
            "  inflating: processed_images/train/cataract/image_220.png  \n",
            "  inflating: processed_images/train/cataract/image_221.png  \n",
            "  inflating: processed_images/train/cataract/image_222.png  \n",
            "  inflating: processed_images/train/cataract/image_223.png  \n",
            "  inflating: processed_images/train/cataract/image_224.png  \n",
            "  inflating: processed_images/train/cataract/image_225.png  \n",
            "  inflating: processed_images/train/cataract/image_226.png  \n",
            "  inflating: processed_images/train/cataract/image_227.png  \n",
            "  inflating: processed_images/train/cataract/image_228.png  \n",
            "  inflating: processed_images/train/cataract/image_229.png  \n",
            "  inflating: processed_images/train/cataract/image_23.png  \n",
            "  inflating: processed_images/train/cataract/image_230.png  \n",
            "  inflating: processed_images/train/cataract/image_231.png  \n",
            "  inflating: processed_images/train/cataract/image_232.png  \n",
            "  inflating: processed_images/train/cataract/image_233.png  \n",
            "  inflating: processed_images/train/cataract/image_234.png  \n",
            "  inflating: processed_images/train/cataract/image_235.png  \n",
            "  inflating: processed_images/train/cataract/image_236.png  \n",
            "  inflating: processed_images/train/cataract/image_237.png  \n",
            "  inflating: processed_images/train/cataract/image_238.png  \n",
            "  inflating: processed_images/train/cataract/image_239.png  \n",
            "  inflating: processed_images/train/cataract/image_24.png  \n",
            "  inflating: processed_images/train/cataract/image_240.png  \n",
            "  inflating: processed_images/train/cataract/image_241.png  \n",
            "  inflating: processed_images/train/cataract/image_242.png  \n",
            "  inflating: processed_images/train/cataract/image_243.png  \n",
            "  inflating: processed_images/train/cataract/image_244.png  \n",
            "  inflating: processed_images/train/cataract/image_245.png  \n",
            "  inflating: processed_images/train/cataract/image_246.png  \n",
            "  inflating: processed_images/train/cataract/image_247.png  \n",
            "  inflating: processed_images/train/cataract/image_25.png  \n",
            "  inflating: processed_images/train/cataract/image_26.png  \n",
            "  inflating: processed_images/train/cataract/image_27.png  \n",
            "  inflating: processed_images/train/cataract/image_28.png  \n",
            "  inflating: processed_images/train/cataract/image_29.png  \n",
            "  inflating: processed_images/train/cataract/image_3.png  \n",
            "  inflating: processed_images/train/cataract/image_30.png  \n",
            "  inflating: processed_images/train/cataract/image_31.png  \n",
            "  inflating: processed_images/train/cataract/image_32.png  \n",
            "  inflating: processed_images/train/cataract/image_33.png  \n",
            "  inflating: processed_images/train/cataract/image_34.png  \n",
            "  inflating: processed_images/train/cataract/image_35.png  \n",
            "  inflating: processed_images/train/cataract/image_36.png  \n",
            "  inflating: processed_images/train/cataract/image_37.png  \n",
            "  inflating: processed_images/train/cataract/image_38.png  \n",
            "  inflating: processed_images/train/cataract/image_39.png  \n",
            "  inflating: processed_images/train/cataract/image_4.png  \n",
            "  inflating: processed_images/train/cataract/image_40.png  \n",
            "  inflating: processed_images/train/cataract/image_41.png  \n",
            "  inflating: processed_images/train/cataract/image_42.png  \n",
            "  inflating: processed_images/train/cataract/image_43.png  \n",
            "  inflating: processed_images/train/cataract/image_44.png  \n",
            "  inflating: processed_images/train/cataract/image_45.png  \n",
            "  inflating: processed_images/train/cataract/image_47.png  \n",
            "  inflating: processed_images/train/cataract/image_48.png  \n",
            "  inflating: processed_images/train/cataract/image_49.png  \n",
            "  inflating: processed_images/train/cataract/image_5.png  \n",
            "  inflating: processed_images/train/cataract/image_50.png  \n",
            "  inflating: processed_images/train/cataract/image_51.png  \n",
            "  inflating: processed_images/train/cataract/image_52.png  \n",
            "  inflating: processed_images/train/cataract/image_53.png  \n",
            "  inflating: processed_images/train/cataract/image_54.png  \n",
            "  inflating: processed_images/train/cataract/image_55.png  \n",
            "  inflating: processed_images/train/cataract/image_56.png  \n",
            "  inflating: processed_images/train/cataract/image_57.png  \n",
            "  inflating: processed_images/train/cataract/image_58.png  \n",
            "  inflating: processed_images/train/cataract/image_59.png  \n",
            "  inflating: processed_images/train/cataract/image_6.png  \n",
            "  inflating: processed_images/train/cataract/image_60.png  \n",
            "  inflating: processed_images/train/cataract/image_61.png  \n",
            "  inflating: processed_images/train/cataract/image_62.png  \n",
            "  inflating: processed_images/train/cataract/image_63.png  \n",
            "  inflating: processed_images/train/cataract/image_64.png  \n",
            "  inflating: processed_images/train/cataract/image_65.png  \n",
            "  inflating: processed_images/train/cataract/image_66.png  \n",
            "  inflating: processed_images/train/cataract/image_67.png  \n",
            "  inflating: processed_images/train/cataract/image_68.png  \n",
            "  inflating: processed_images/train/cataract/image_69.png  \n",
            "  inflating: processed_images/train/cataract/image_7.png  \n",
            "  inflating: processed_images/train/cataract/image_70.png  \n",
            "  inflating: processed_images/train/cataract/image_71.png  \n",
            "  inflating: processed_images/train/cataract/image_72.png  \n",
            "  inflating: processed_images/train/cataract/image_73.png  \n",
            "  inflating: processed_images/train/cataract/image_74.png  \n",
            "  inflating: processed_images/train/cataract/image_75.png  \n",
            "  inflating: processed_images/train/cataract/image_76.png  \n",
            "  inflating: processed_images/train/cataract/image_77.png  \n",
            "  inflating: processed_images/train/cataract/image_78.png  \n",
            "  inflating: processed_images/train/cataract/image_79.png  \n",
            "  inflating: processed_images/train/cataract/image_8.png  \n",
            "  inflating: processed_images/train/cataract/image_80.png  \n",
            "  inflating: processed_images/train/cataract/image_81.png  \n",
            "  inflating: processed_images/train/cataract/image_82.png  \n",
            "  inflating: processed_images/train/cataract/image_83.png  \n",
            "  inflating: processed_images/train/cataract/image_84.png  \n",
            "  inflating: processed_images/train/cataract/image_85.png  \n",
            "  inflating: processed_images/train/cataract/image_86.png  \n",
            "  inflating: processed_images/train/cataract/image_87.png  \n",
            "  inflating: processed_images/train/cataract/image_88.png  \n",
            "  inflating: processed_images/train/cataract/image_89.png  \n",
            "  inflating: processed_images/train/cataract/image_9.png  \n",
            "  inflating: processed_images/train/cataract/image_90.png  \n",
            "  inflating: processed_images/train/cataract/image_91.png  \n",
            "  inflating: processed_images/train/cataract/image_92.png  \n",
            "  inflating: processed_images/train/cataract/image_93.png  \n",
            "  inflating: processed_images/train/cataract/image_94.png  \n",
            "  inflating: processed_images/train/cataract/image_95.png  \n",
            "  inflating: processed_images/train/cataract/image_96.png  \n",
            "  inflating: processed_images/train/cataract/image_97.png  \n",
            "  inflating: processed_images/train/cataract/image_98.png  \n",
            "  inflating: processed_images/train/cataract/image_99.png  \n",
            "  inflating: processed_images/train/normal/image_0.png  \n",
            "  inflating: processed_images/train/normal/image_1.png  \n",
            "  inflating: processed_images/train/normal/image_10.png  \n",
            "  inflating: processed_images/train/normal/image_100.png  \n",
            "  inflating: processed_images/train/normal/image_101.png  \n",
            "  inflating: processed_images/train/normal/image_102.png  \n",
            "  inflating: processed_images/train/normal/image_103.png  \n",
            "  inflating: processed_images/train/normal/image_104.png  \n",
            "  inflating: processed_images/train/normal/image_105.png  \n",
            "  inflating: processed_images/train/normal/image_106.png  \n",
            "  inflating: processed_images/train/normal/image_107.png  \n",
            "  inflating: processed_images/train/normal/image_108.png  \n",
            "  inflating: processed_images/train/normal/image_109.png  \n",
            "  inflating: processed_images/train/normal/image_11.png  \n",
            "  inflating: processed_images/train/normal/image_110.png  \n",
            "  inflating: processed_images/train/normal/image_111.png  \n",
            "  inflating: processed_images/train/normal/image_112.png  \n",
            "  inflating: processed_images/train/normal/image_113.png  \n",
            "  inflating: processed_images/train/normal/image_114.png  \n",
            "  inflating: processed_images/train/normal/image_115.png  \n",
            "  inflating: processed_images/train/normal/image_116.png  \n",
            "  inflating: processed_images/train/normal/image_117.png  \n",
            "  inflating: processed_images/train/normal/image_118.png  \n",
            "  inflating: processed_images/train/normal/image_119.png  \n",
            "  inflating: processed_images/train/normal/image_12.png  \n",
            "  inflating: processed_images/train/normal/image_120.png  \n",
            "  inflating: processed_images/train/normal/image_121.png  \n",
            "  inflating: processed_images/train/normal/image_122.png  \n",
            "  inflating: processed_images/train/normal/image_123.png  \n",
            "  inflating: processed_images/train/normal/image_124.png  \n",
            "  inflating: processed_images/train/normal/image_125.png  \n",
            "  inflating: processed_images/train/normal/image_126.png  \n",
            "  inflating: processed_images/train/normal/image_127.png  \n",
            "  inflating: processed_images/train/normal/image_128.png  \n",
            "  inflating: processed_images/train/normal/image_129.png  \n",
            "  inflating: processed_images/train/normal/image_13.png  \n",
            "  inflating: processed_images/train/normal/image_130.png  \n",
            "  inflating: processed_images/train/normal/image_131.png  \n",
            "  inflating: processed_images/train/normal/image_132.png  \n",
            "  inflating: processed_images/train/normal/image_133.png  \n",
            "  inflating: processed_images/train/normal/image_134.png  \n",
            "  inflating: processed_images/train/normal/image_135.png  \n",
            "  inflating: processed_images/train/normal/image_136.png  \n",
            "  inflating: processed_images/train/normal/image_137.png  \n",
            "  inflating: processed_images/train/normal/image_138.png  \n",
            "  inflating: processed_images/train/normal/image_139.png  \n",
            "  inflating: processed_images/train/normal/image_14.png  \n",
            "  inflating: processed_images/train/normal/image_140.png  \n",
            "  inflating: processed_images/train/normal/image_141.png  \n",
            "  inflating: processed_images/train/normal/image_142.png  \n",
            "  inflating: processed_images/train/normal/image_143.png  \n",
            "  inflating: processed_images/train/normal/image_144.png  \n",
            "  inflating: processed_images/train/normal/image_145.png  \n",
            "  inflating: processed_images/train/normal/image_146.png  \n",
            "  inflating: processed_images/train/normal/image_147.png  \n",
            "  inflating: processed_images/train/normal/image_148.png  \n",
            "  inflating: processed_images/train/normal/image_149.png  \n",
            "  inflating: processed_images/train/normal/image_15.png  \n",
            "  inflating: processed_images/train/normal/image_150.png  \n",
            "  inflating: processed_images/train/normal/image_151.png  \n",
            "  inflating: processed_images/train/normal/image_152.png  \n",
            "  inflating: processed_images/train/normal/image_153.png  \n",
            "  inflating: processed_images/train/normal/image_154.png  \n",
            "  inflating: processed_images/train/normal/image_155.png  \n",
            "  inflating: processed_images/train/normal/image_156.png  \n",
            "  inflating: processed_images/train/normal/image_157.png  \n",
            "  inflating: processed_images/train/normal/image_158.png  \n",
            "  inflating: processed_images/train/normal/image_159.png  \n",
            "  inflating: processed_images/train/normal/image_16.png  \n",
            "  inflating: processed_images/train/normal/image_160.png  \n",
            "  inflating: processed_images/train/normal/image_161.png  \n",
            "  inflating: processed_images/train/normal/image_162.png  \n",
            "  inflating: processed_images/train/normal/image_163.png  \n",
            "  inflating: processed_images/train/normal/image_164.png  \n",
            "  inflating: processed_images/train/normal/image_165.png  \n",
            "  inflating: processed_images/train/normal/image_166.png  \n",
            "  inflating: processed_images/train/normal/image_167.png  \n",
            "  inflating: processed_images/train/normal/image_168.png  \n",
            "  inflating: processed_images/train/normal/image_169.png  \n",
            "  inflating: processed_images/train/normal/image_17.png  \n",
            "  inflating: processed_images/train/normal/image_170.png  \n",
            "  inflating: processed_images/train/normal/image_171.png  \n",
            "  inflating: processed_images/train/normal/image_172.png  \n",
            "  inflating: processed_images/train/normal/image_173.png  \n",
            "  inflating: processed_images/train/normal/image_174.png  \n",
            "  inflating: processed_images/train/normal/image_175.png  \n",
            "  inflating: processed_images/train/normal/image_176.png  \n",
            "  inflating: processed_images/train/normal/image_177.png  \n",
            "  inflating: processed_images/train/normal/image_178.png  \n",
            "  inflating: processed_images/train/normal/image_179.png  \n",
            "  inflating: processed_images/train/normal/image_18.png  \n",
            "  inflating: processed_images/train/normal/image_180.png  \n",
            "  inflating: processed_images/train/normal/image_181.png  \n",
            "  inflating: processed_images/train/normal/image_182.png  \n",
            "  inflating: processed_images/train/normal/image_183.png  \n",
            "  inflating: processed_images/train/normal/image_184.png  \n",
            "  inflating: processed_images/train/normal/image_185.png  \n",
            "  inflating: processed_images/train/normal/image_186.png  \n",
            "  inflating: processed_images/train/normal/image_187.png  \n",
            "  inflating: processed_images/train/normal/image_188.png  \n",
            "  inflating: processed_images/train/normal/image_189.png  \n",
            "  inflating: processed_images/train/normal/image_19.png  \n",
            "  inflating: processed_images/train/normal/image_190.png  \n",
            "  inflating: processed_images/train/normal/image_191.png  \n",
            "  inflating: processed_images/train/normal/image_192.png  \n",
            "  inflating: processed_images/train/normal/image_193.png  \n",
            "  inflating: processed_images/train/normal/image_194.png  \n",
            "  inflating: processed_images/train/normal/image_195.png  \n",
            "  inflating: processed_images/train/normal/image_196.png  \n",
            "  inflating: processed_images/train/normal/image_197.png  \n",
            "  inflating: processed_images/train/normal/image_198.png  \n",
            "  inflating: processed_images/train/normal/image_199.png  \n",
            "  inflating: processed_images/train/normal/image_2.png  \n",
            "  inflating: processed_images/train/normal/image_20.png  \n",
            "  inflating: processed_images/train/normal/image_200.png  \n",
            "  inflating: processed_images/train/normal/image_201.png  \n",
            "  inflating: processed_images/train/normal/image_202.png  \n",
            "  inflating: processed_images/train/normal/image_203.png  \n",
            "  inflating: processed_images/train/normal/image_204.png  \n",
            "  inflating: processed_images/train/normal/image_205.png  \n",
            "  inflating: processed_images/train/normal/image_206.png  \n",
            "  inflating: processed_images/train/normal/image_207.png  \n",
            "  inflating: processed_images/train/normal/image_208.png  \n",
            "  inflating: processed_images/train/normal/image_209.png  \n",
            "  inflating: processed_images/train/normal/image_21.png  \n",
            "  inflating: processed_images/train/normal/image_210.png  \n",
            "  inflating: processed_images/train/normal/image_211.png  \n",
            "  inflating: processed_images/train/normal/image_212.png  \n",
            "  inflating: processed_images/train/normal/image_213.png  \n",
            "  inflating: processed_images/train/normal/image_214.png  \n",
            "  inflating: processed_images/train/normal/image_215.png  \n",
            "  inflating: processed_images/train/normal/image_216.png  \n",
            "  inflating: processed_images/train/normal/image_217.png  \n",
            "  inflating: processed_images/train/normal/image_218.png  \n",
            "  inflating: processed_images/train/normal/image_219.png  \n",
            "  inflating: processed_images/train/normal/image_22.png  \n",
            "  inflating: processed_images/train/normal/image_220.png  \n",
            "  inflating: processed_images/train/normal/image_221.png  \n",
            "  inflating: processed_images/train/normal/image_222.png  \n",
            "  inflating: processed_images/train/normal/image_223.png  \n",
            "  inflating: processed_images/train/normal/image_224.png  \n",
            "  inflating: processed_images/train/normal/image_225.png  \n",
            "  inflating: processed_images/train/normal/image_226.png  \n",
            "  inflating: processed_images/train/normal/image_227.png  \n",
            "  inflating: processed_images/train/normal/image_228.png  \n",
            "  inflating: processed_images/train/normal/image_229.png  \n",
            "  inflating: processed_images/train/normal/image_23.png  \n",
            "  inflating: processed_images/train/normal/image_230.png  \n",
            "  inflating: processed_images/train/normal/image_231.png  \n",
            "  inflating: processed_images/train/normal/image_232.png  \n",
            "  inflating: processed_images/train/normal/image_233.png  \n",
            "  inflating: processed_images/train/normal/image_234.png  \n",
            "  inflating: processed_images/train/normal/image_235.png  \n",
            "  inflating: processed_images/train/normal/image_236.png  \n",
            "  inflating: processed_images/train/normal/image_237.png  \n",
            "  inflating: processed_images/train/normal/image_238.png  \n",
            "  inflating: processed_images/train/normal/image_239.png  \n",
            "  inflating: processed_images/train/normal/image_24.png  \n",
            "  inflating: processed_images/train/normal/image_240.png  \n",
            "  inflating: processed_images/train/normal/image_241.png  \n",
            "  inflating: processed_images/train/normal/image_242.png  \n",
            "  inflating: processed_images/train/normal/image_243.png  \n",
            "  inflating: processed_images/train/normal/image_244.png  \n",
            "  inflating: processed_images/train/normal/image_245.png  \n",
            "  inflating: processed_images/train/normal/image_25.png  \n",
            "  inflating: processed_images/train/normal/image_26.png  \n",
            "  inflating: processed_images/train/normal/image_27.png  \n",
            "  inflating: processed_images/train/normal/image_28.png  \n",
            "  inflating: processed_images/train/normal/image_29.png  \n",
            "  inflating: processed_images/train/normal/image_3.png  \n",
            "  inflating: processed_images/train/normal/image_30.png  \n",
            "  inflating: processed_images/train/normal/image_31.png  \n",
            "  inflating: processed_images/train/normal/image_32.png  \n",
            "  inflating: processed_images/train/normal/image_33.png  \n",
            "  inflating: processed_images/train/normal/image_34.png  \n",
            "  inflating: processed_images/train/normal/image_35.png  \n",
            "  inflating: processed_images/train/normal/image_36.png  \n",
            "  inflating: processed_images/train/normal/image_37.png  \n",
            "  inflating: processed_images/train/normal/image_38.png  \n",
            "  inflating: processed_images/train/normal/image_39.png  \n",
            "  inflating: processed_images/train/normal/image_4.png  \n",
            "  inflating: processed_images/train/normal/image_40.png  \n",
            "  inflating: processed_images/train/normal/image_41.png  \n",
            "  inflating: processed_images/train/normal/image_42.png  \n",
            "  inflating: processed_images/train/normal/image_43.png  \n",
            "  inflating: processed_images/train/normal/image_44.png  \n",
            "  inflating: processed_images/train/normal/image_45.png  \n",
            "  inflating: processed_images/train/normal/image_46.png  \n",
            "  inflating: processed_images/train/normal/image_47.png  \n",
            "  inflating: processed_images/train/normal/image_48.png  \n",
            "  inflating: processed_images/train/normal/image_49.png  \n",
            "  inflating: processed_images/train/normal/image_5.png  \n",
            "  inflating: processed_images/train/normal/image_50.png  \n",
            "  inflating: processed_images/train/normal/image_51.png  \n",
            "  inflating: processed_images/train/normal/image_52.png  \n",
            "  inflating: processed_images/train/normal/image_53.png  \n",
            "  inflating: processed_images/train/normal/image_54.png  \n",
            "  inflating: processed_images/train/normal/image_55.png  \n",
            "  inflating: processed_images/train/normal/image_56.png  \n",
            "  inflating: processed_images/train/normal/image_57.png  \n",
            "  inflating: processed_images/train/normal/image_58.png  \n",
            "  inflating: processed_images/train/normal/image_59.png  \n",
            "  inflating: processed_images/train/normal/image_6.png  \n",
            "  inflating: processed_images/train/normal/image_60.png  \n",
            "  inflating: processed_images/train/normal/image_61.png  \n",
            "  inflating: processed_images/train/normal/image_62.png  \n",
            "  inflating: processed_images/train/normal/image_63.png  \n",
            "  inflating: processed_images/train/normal/image_64.png  \n",
            "  inflating: processed_images/train/normal/image_65.png  \n",
            "  inflating: processed_images/train/normal/image_66.png  \n",
            "  inflating: processed_images/train/normal/image_67.png  \n",
            "  inflating: processed_images/train/normal/image_68.png  \n",
            "  inflating: processed_images/train/normal/image_69.png  \n",
            "  inflating: processed_images/train/normal/image_7.png  \n",
            "  inflating: processed_images/train/normal/image_70.png  \n",
            "  inflating: processed_images/train/normal/image_71.png  \n",
            "  inflating: processed_images/train/normal/image_72.png  \n",
            "  inflating: processed_images/train/normal/image_73.png  \n",
            "  inflating: processed_images/train/normal/image_74.png  \n",
            "  inflating: processed_images/train/normal/image_75.png  \n",
            "  inflating: processed_images/train/normal/image_76.png  \n",
            "  inflating: processed_images/train/normal/image_77.png  \n",
            "  inflating: processed_images/train/normal/image_78.png  \n",
            "  inflating: processed_images/train/normal/image_79.png  \n",
            "  inflating: processed_images/train/normal/image_8.png  \n",
            "  inflating: processed_images/train/normal/image_80.png  \n",
            "  inflating: processed_images/train/normal/image_81.png  \n",
            "  inflating: processed_images/train/normal/image_82.png  \n",
            "  inflating: processed_images/train/normal/image_83.png  \n",
            "  inflating: processed_images/train/normal/image_84.png  \n",
            "  inflating: processed_images/train/normal/image_85.png  \n",
            "  inflating: processed_images/train/normal/image_86.png  \n",
            "  inflating: processed_images/train/normal/image_87.png  \n",
            "  inflating: processed_images/train/normal/image_88.png  \n",
            "  inflating: processed_images/train/normal/image_89.png  \n",
            "  inflating: processed_images/train/normal/image_9.png  \n",
            "  inflating: processed_images/train/normal/image_90.png  \n",
            "  inflating: processed_images/train/normal/image_91.png  \n",
            "  inflating: processed_images/train/normal/image_92.png  \n",
            "  inflating: processed_images/train/normal/image_93.png  \n",
            "  inflating: processed_images/train/normal/image_94.png  \n",
            "  inflating: processed_images/train/normal/image_95.png  \n",
            "  inflating: processed_images/train/normal/image_96.png  \n",
            "  inflating: processed_images/train/normal/image_97.png  \n",
            "  inflating: processed_images/train/normal/image_98.png  \n",
            "  inflating: processed_images/train/normal/image_99.png  \n"
          ]
        }
      ]
    },
    {
      "cell_type": "markdown",
      "source": [
        "### Olhando a estrutura do que foi baixado"
      ],
      "metadata": {
        "id": "l2d6vFWnk55H"
      }
    },
    {
      "cell_type": "code",
      "source": [
        "print(\"Estrutura de pastas do que foi baixado:\\n\")\n",
        "!ls -la processed_images\n",
        "\n",
        "train_normal = 'processed_images/train/normal'\n",
        "train_cataract = 'processed_images/train/cataract'\n",
        "test_normal = 'processed_images/test/normal'\n",
        "test_cataract = 'processed_images/test/cataract'\n",
        "\n",
        "print('_' * 50)\n",
        "print('\\n'\n",
        "'Imagens na pasta de treino:\\n'\n",
        "f'- Normal: {len(os.listdir(train_normal))} imagens\\n'\n",
        "f'- Cataratas: {len(os.listdir(train_cataract))} imagens\\n'\n",
        "'\\nImagens na pasta de teste:\\n'\n",
        "f'- Normal: {len(os.listdir(test_normal))} imagens\\n'\n",
        "f'- Cataratas: {len(os.listdir(test_cataract))} imagens')"
      ],
      "metadata": {
        "colab": {
          "base_uri": "https://localhost:8080/"
        },
        "id": "qyydYk8Yk8Rs",
        "outputId": "b3ceab22-a24c-4e01-f60f-b262a22750d4"
      },
      "execution_count": 7,
      "outputs": [
        {
          "output_type": "stream",
          "name": "stdout",
          "text": [
            "Estrutura de pastas do que foi baixado:\n",
            "\n",
            "total 16\n",
            "drwxr-xr-x 4 root root 4096 Aug 29 20:50 .\n",
            "drwxr-xr-x 1 root root 4096 Aug 29 20:50 ..\n",
            "drwxr-xr-x 4 root root 4096 Aug 29 20:50 test\n",
            "drwxr-xr-x 4 root root 4096 Aug 29 20:50 train\n",
            "__________________________________________________\n",
            "\n",
            "Imagens na pasta de treino:\n",
            "- Normal: 246 imagens\n",
            "- Cataratas: 245 imagens\n",
            "\n",
            "Imagens na pasta de teste:\n",
            "- Normal: 60 imagens\n",
            "- Cataratas: 61 imagens\n"
          ]
        }
      ]
    },
    {
      "cell_type": "markdown",
      "source": [
        "## Preparação dos dados"
      ],
      "metadata": {
        "id": "vUoPjn8RfHUF"
      }
    },
    {
      "cell_type": "markdown",
      "source": [
        "### Parâmetros"
      ],
      "metadata": {
        "id": "YkR_FvcLoC0A"
      }
    },
    {
      "cell_type": "code",
      "source": [
        "SPLIT_PERCENTAGE = 0.2 # Percentual dos dados de treino que serão usados em validação\n",
        "IMG_SIZE = (224, 224) # Tamanho da imagem de entrada em pixels de largura x comprimento\n",
        "BATCH_SIZE = 32 # Quantidade de imagens a serem processadas por vez\n",
        "GENERATOR_SEED = 42 # Seed para o gerador de dados para reprodutibilidade"
      ],
      "metadata": {
        "id": "ZqOvIB_coE1r"
      },
      "execution_count": 8,
      "outputs": []
    },
    {
      "cell_type": "markdown",
      "source": [
        "### Funções"
      ],
      "metadata": {
        "id": "p-0TCZtxnmNb"
      }
    },
    {
      "cell_type": "markdown",
      "source": [
        "#### Divisão de dados em duas pastas em um percentual definido"
      ],
      "metadata": {
        "id": "q4urA3O-nw3w"
      }
    },
    {
      "cell_type": "code",
      "source": [
        "def split_data(source_folder, destination_folder, split_percentage=SPLIT_PERCENTAGE):\n",
        "  # Listar as imagens na pasta\n",
        "  all_files = os.listdir(source_folder)\n",
        "\n",
        "  # Embaralhar as imagens\n",
        "  random.shuffle(all_files)\n",
        "\n",
        "  # Obtém a quantidade de imagens que representa o percentual passado nos parâmetros\n",
        "  destination_count = int(len(all_files) * split_percentage)\n",
        "\n",
        "  print(f\"Total de imagens em {source_folder}: {len(all_files)}\")\n",
        "  print(\"_\" * 50)\n",
        "  print('\\n')\n",
        "  print(f\"Quantidade a ir para {destination_folder}: {destination_count}\")\n",
        "  print(\"_\" * 50)\n",
        "  print('\\n')\n",
        "  print(f\"Restarão em {source_folder}: {len(all_files) - destination_count}\")\n",
        "  print(\"_\" * 50)\n",
        "  print('\\n')\n",
        "\n",
        "  # Movendo as imagens para o destino\n",
        "  for i in range(destination_count):\n",
        "    file_name = all_files[i]\n",
        "    source_path = os.path.join(source_folder, file_name)\n",
        "    destination_path = os.path.join(destination_folder, file_name)\n",
        "    shutil.move(source_path, destination_path)\n",
        "\n",
        "  print(f\"{destination_count} imagens movidas para {destination_folder}\")"
      ],
      "metadata": {
        "id": "LvRV-cZ-nxqB"
      },
      "execution_count": 9,
      "outputs": []
    },
    {
      "cell_type": "markdown",
      "source": [
        "### Criando o conjunto de validação a partir dos dados de treino"
      ],
      "metadata": {
        "id": "u434zw1anV_h"
      }
    },
    {
      "cell_type": "code",
      "source": [
        "os.makedirs('processed_images/validation/normal', exist_ok=True) # Cria a pasta de normal para validação\n",
        "os.makedirs('processed_images/validation/cataract', exist_ok=True) # Cria a pastas de cataratas para validação\n",
        "\n",
        "split_data(train_cataract, 'processed_images/validation/cataract') # Move as imagens de cataratas para a pasta de validação\n",
        "split_data(train_normal, 'processed_images/validation/normal') # Move as imagens normais para a pasta de validação\n",
        "\n",
        "# Verificando a nova divisão\n",
        "validation_normal = 'processed_images/validation/normal'\n",
        "validation_cataract = 'processed_images/validation/cataract'\n",
        "\n",
        "print(\"Nova distribuição:\")\n",
        "print('\\n')\n",
        "print(\"Treino:\")\n",
        "print(f\"Normal: {len(os.listdir(train_normal))}\")\n",
        "print(f\"Catarata: {len(os.listdir(train_cataract))}\")\n",
        "print(\"_\" * 50)\n",
        "print('\\n')\n",
        "\n",
        "print(\"Validação:\")\n",
        "print(f\"Normal: {len(os.listdir(validation_normal))}\")\n",
        "print(f\"Catarata: {len(os.listdir(validation_cataract))}\")\n",
        "print(\"_\" * 50)\n",
        "print('\\n')\n",
        "\n",
        "print(\"Teste:\")\n",
        "print(f\"Normal: {len(os.listdir(test_normal))}\")\n",
        "print(f\"Catarata: {len(os.listdir(test_cataract))}\")"
      ],
      "metadata": {
        "colab": {
          "base_uri": "https://localhost:8080/"
        },
        "id": "OimCTmqEndN5",
        "outputId": "3e87d02d-2206-4b6d-a510-6ac864f84277",
        "collapsed": true
      },
      "execution_count": 10,
      "outputs": [
        {
          "output_type": "stream",
          "name": "stdout",
          "text": [
            "Total de imagens em processed_images/train/cataract: 245\n",
            "__________________________________________________\n",
            "\n",
            "\n",
            "Quantidade a ir para processed_images/validation/cataract: 49\n",
            "__________________________________________________\n",
            "\n",
            "\n",
            "Restarão em processed_images/train/cataract: 196\n",
            "__________________________________________________\n",
            "\n",
            "\n",
            "49 imagens movidas para processed_images/validation/cataract\n",
            "Total de imagens em processed_images/train/normal: 246\n",
            "__________________________________________________\n",
            "\n",
            "\n",
            "Quantidade a ir para processed_images/validation/normal: 49\n",
            "__________________________________________________\n",
            "\n",
            "\n",
            "Restarão em processed_images/train/normal: 197\n",
            "__________________________________________________\n",
            "\n",
            "\n",
            "49 imagens movidas para processed_images/validation/normal\n",
            "Nova distribuição:\n",
            "\n",
            "\n",
            "Treino:\n",
            "Normal: 197\n",
            "Catarata: 196\n",
            "__________________________________________________\n",
            "\n",
            "\n",
            "Validação:\n",
            "Normal: 49\n",
            "Catarata: 49\n",
            "__________________________________________________\n",
            "\n",
            "\n",
            "Teste:\n",
            "Normal: 60\n",
            "Catarata: 61\n"
          ]
        }
      ]
    },
    {
      "cell_type": "markdown",
      "source": [
        "### Criando os geradores de dados"
      ],
      "metadata": {
        "id": "51yU59m6pxuZ"
      }
    },
    {
      "cell_type": "code",
      "source": [
        "# Gerador de dados de treino\n",
        "train_datagen = ImageDataGenerator(\n",
        "    rescale = 1./255, # normaliza os valores dos pixels de 0-255 para 0-1\n",
        "    rotation_range = 20, # rotação aleatória em até 20 graus por imagem\n",
        "    width_shift_range = 0.1, # move as imagens horizontalmente em até 10%\n",
        "    height_shift_range = 0.1, # faz o mesmo, porém verticalmente\n",
        "    horizontal_flip = True, # inverte horizontalmente com probabilidade de 50%\n",
        "    zoom_range = 0.1, # zoom aleatório em até 20%\n",
        "    fill_mode= 'nearest' # Preenche os pixels vazios gerados nas rotações e reenquadramentos usando o pixel mais próximo (uma cópia dele)\n",
        ")\n",
        "\n",
        "train_generator = train_datagen.flow_from_directory(\n",
        "    'processed_images/train',\n",
        "    target_size = IMG_SIZE,\n",
        "    batch_size = BATCH_SIZE,\n",
        "    class_mode = 'binary', # duas classes (cataratas -> 0 e normal -> 1)\n",
        "    seed = GENERATOR_SEED,\n",
        "    shuffle = True\n",
        ")\n",
        "\n",
        "# Gerador de dados de validação\n",
        "validation_datagen = ImageDataGenerator(\n",
        "    rescale = 1./255 # apenas reescalando os píxel de 0-1\n",
        ")\n",
        "\n",
        "validation_generator = validation_datagen.flow_from_directory(\n",
        "  'processed_images/validation',\n",
        "  target_size = IMG_SIZE,\n",
        "  batch_size = BATCH_SIZE,\n",
        "  class_mode = 'binary',\n",
        "  seed = GENERATOR_SEED,\n",
        "  shuffle = False # Não há necessidade de embaralhar as imagens na validação\n",
        ")\n",
        "\n",
        "# Gerador de dados de teste\n",
        "test_datagen = ImageDataGenerator(\n",
        "    rescale = 1./255 # apenas reescalando os píxel de 0-1\n",
        ")\n",
        "\n",
        "test_generator = test_datagen.flow_from_directory(\n",
        "    'processed_images/test',\n",
        "    target_size = IMG_SIZE,\n",
        "    batch_size = BATCH_SIZE,\n",
        "    class_mode = 'binary',\n",
        "    seed = GENERATOR_SEED,\n",
        "    shuffle = False # não se deve embaralhar as imagens de teste\n",
        ")"
      ],
      "metadata": {
        "colab": {
          "base_uri": "https://localhost:8080/"
        },
        "id": "tPjDGOcrsHP7",
        "outputId": "3723b750-5973-43b7-a127-7002a7c0d9ea"
      },
      "execution_count": 11,
      "outputs": [
        {
          "output_type": "stream",
          "name": "stdout",
          "text": [
            "Found 393 images belonging to 2 classes.\n",
            "Found 98 images belonging to 2 classes.\n",
            "Found 121 images belonging to 2 classes.\n"
          ]
        }
      ]
    },
    {
      "cell_type": "markdown",
      "source": [
        "### Verificando se as classes encontradas pelos geradores estão corretas"
      ],
      "metadata": {
        "id": "Ky7YbZx8tzq6"
      }
    },
    {
      "cell_type": "code",
      "source": [
        "print(\"Classes encontradas:\", train_generator.class_indices)\n",
        "print(f\"Imagens de treino encontradas pelo gerador: {train_generator.samples}\")\n",
        "print(f\"Imagens de validação encontradas pelo gerador: {validation_generator.samples}\")\n",
        "print(f\"Imagens de teste encontradas pelo gerador: {test_generator.samples}\")"
      ],
      "metadata": {
        "colab": {
          "base_uri": "https://localhost:8080/"
        },
        "id": "3GTB31n3t34K",
        "outputId": "b7caa56f-34a4-4d7e-cbd3-d1892889041e"
      },
      "execution_count": 12,
      "outputs": [
        {
          "output_type": "stream",
          "name": "stdout",
          "text": [
            "Classes encontradas: {'cataract': 0, 'normal': 1}\n",
            "Imagens de treino encontradas pelo gerador: 393\n",
            "Imagens de validação encontradas pelo gerador: 98\n",
            "Imagens de teste encontradas pelo gerador: 121\n"
          ]
        }
      ]
    },
    {
      "cell_type": "markdown",
      "source": [
        "## Obtenção do modelo pré-treinado"
      ],
      "metadata": {
        "id": "iBuoehFdfPHb"
      }
    },
    {
      "cell_type": "markdown",
      "source": [
        "### Parâmetros"
      ],
      "metadata": {
        "id": "ROlhimDevLlH"
      }
    },
    {
      "cell_type": "code",
      "source": [
        "WEIGHTS = 'imagenet' # pesos pré-treinados a serem utilizados\n",
        "INPUT_SHAPE = (224, 224, 3) # formato das imagens de entrada para o modelo"
      ],
      "metadata": {
        "id": "kKkaqjz_vNWG"
      },
      "execution_count": 13,
      "outputs": []
    },
    {
      "cell_type": "markdown",
      "source": [
        "### Importando o modelo base"
      ],
      "metadata": {
        "id": "NjvJFEGavEqv"
      }
    },
    {
      "cell_type": "code",
      "source": [
        "base_model = VGG16(\n",
        "    weights = WEIGHTS, # carrega os pesos pré-treinados\n",
        "    include_top = False, # remove a última camada (a que faz a classificação)\n",
        "    input_shape = INPUT_SHAPE # define o formato das imagens de entrada em 224x224 além do RGB (o 3 final)\n",
        ")\n",
        "\n",
        "base_model.trainable = False # Congela as camadas do modelo que importamos do ImageNet (para não treinarmos elas)\n",
        "\n",
        "print(f\"{base_model.name} carregado! Camadas congeladas: {len(base_model.layers)}\")"
      ],
      "metadata": {
        "colab": {
          "base_uri": "https://localhost:8080/"
        },
        "id": "PmhwTXeDvHmA",
        "outputId": "d3f9dd80-c788-4823-f801-79169ec9dcdd"
      },
      "execution_count": 14,
      "outputs": [
        {
          "output_type": "stream",
          "name": "stdout",
          "text": [
            "Downloading data from https://storage.googleapis.com/tensorflow/keras-applications/vgg16/vgg16_weights_tf_dim_ordering_tf_kernels_notop.h5\n",
            "\u001b[1m58889256/58889256\u001b[0m \u001b[32m━━━━━━━━━━━━━━━━━━━━\u001b[0m\u001b[37m\u001b[0m \u001b[1m4s\u001b[0m 0us/step\n",
            "vgg16 carregado! Camadas congeladas: 19\n"
          ]
        }
      ]
    },
    {
      "cell_type": "markdown",
      "source": [
        "### Conhecendo a arquitetura do modelo base"
      ],
      "metadata": {
        "id": "76CUuyYhwBNW"
      }
    },
    {
      "cell_type": "code",
      "source": [
        "print(\"Arquitetura do modelo base:\")\n",
        "base_model.summary()"
      ],
      "metadata": {
        "colab": {
          "base_uri": "https://localhost:8080/",
          "height": 799
        },
        "id": "MBVv3xxRwDkn",
        "outputId": "2a6733fe-49e9-46ea-8ee2-b0c6f7840082"
      },
      "execution_count": 15,
      "outputs": [
        {
          "output_type": "stream",
          "name": "stdout",
          "text": [
            "Arquitetura do modelo base:\n"
          ]
        },
        {
          "output_type": "display_data",
          "data": {
            "text/plain": [
              "\u001b[1mModel: \"vgg16\"\u001b[0m\n"
            ],
            "text/html": [
              "<pre style=\"white-space:pre;overflow-x:auto;line-height:normal;font-family:Menlo,'DejaVu Sans Mono',consolas,'Courier New',monospace\"><span style=\"font-weight: bold\">Model: \"vgg16\"</span>\n",
              "</pre>\n"
            ]
          },
          "metadata": {}
        },
        {
          "output_type": "display_data",
          "data": {
            "text/plain": [
              "┏━━━━━━━━━━━━━━━━━━━━━━━━━━━━━━━━━┳━━━━━━━━━━━━━━━━━━━━━━━━┳━━━━━━━━━━━━━━━┓\n",
              "┃\u001b[1m \u001b[0m\u001b[1mLayer (type)                   \u001b[0m\u001b[1m \u001b[0m┃\u001b[1m \u001b[0m\u001b[1mOutput Shape          \u001b[0m\u001b[1m \u001b[0m┃\u001b[1m \u001b[0m\u001b[1m      Param #\u001b[0m\u001b[1m \u001b[0m┃\n",
              "┡━━━━━━━━━━━━━━━━━━━━━━━━━━━━━━━━━╇━━━━━━━━━━━━━━━━━━━━━━━━╇━━━━━━━━━━━━━━━┩\n",
              "│ input_layer (\u001b[38;5;33mInputLayer\u001b[0m)        │ (\u001b[38;5;45mNone\u001b[0m, \u001b[38;5;34m224\u001b[0m, \u001b[38;5;34m224\u001b[0m, \u001b[38;5;34m3\u001b[0m)    │             \u001b[38;5;34m0\u001b[0m │\n",
              "├─────────────────────────────────┼────────────────────────┼───────────────┤\n",
              "│ block1_conv1 (\u001b[38;5;33mConv2D\u001b[0m)           │ (\u001b[38;5;45mNone\u001b[0m, \u001b[38;5;34m224\u001b[0m, \u001b[38;5;34m224\u001b[0m, \u001b[38;5;34m64\u001b[0m)   │         \u001b[38;5;34m1,792\u001b[0m │\n",
              "├─────────────────────────────────┼────────────────────────┼───────────────┤\n",
              "│ block1_conv2 (\u001b[38;5;33mConv2D\u001b[0m)           │ (\u001b[38;5;45mNone\u001b[0m, \u001b[38;5;34m224\u001b[0m, \u001b[38;5;34m224\u001b[0m, \u001b[38;5;34m64\u001b[0m)   │        \u001b[38;5;34m36,928\u001b[0m │\n",
              "├─────────────────────────────────┼────────────────────────┼───────────────┤\n",
              "│ block1_pool (\u001b[38;5;33mMaxPooling2D\u001b[0m)      │ (\u001b[38;5;45mNone\u001b[0m, \u001b[38;5;34m112\u001b[0m, \u001b[38;5;34m112\u001b[0m, \u001b[38;5;34m64\u001b[0m)   │             \u001b[38;5;34m0\u001b[0m │\n",
              "├─────────────────────────────────┼────────────────────────┼───────────────┤\n",
              "│ block2_conv1 (\u001b[38;5;33mConv2D\u001b[0m)           │ (\u001b[38;5;45mNone\u001b[0m, \u001b[38;5;34m112\u001b[0m, \u001b[38;5;34m112\u001b[0m, \u001b[38;5;34m128\u001b[0m)  │        \u001b[38;5;34m73,856\u001b[0m │\n",
              "├─────────────────────────────────┼────────────────────────┼───────────────┤\n",
              "│ block2_conv2 (\u001b[38;5;33mConv2D\u001b[0m)           │ (\u001b[38;5;45mNone\u001b[0m, \u001b[38;5;34m112\u001b[0m, \u001b[38;5;34m112\u001b[0m, \u001b[38;5;34m128\u001b[0m)  │       \u001b[38;5;34m147,584\u001b[0m │\n",
              "├─────────────────────────────────┼────────────────────────┼───────────────┤\n",
              "│ block2_pool (\u001b[38;5;33mMaxPooling2D\u001b[0m)      │ (\u001b[38;5;45mNone\u001b[0m, \u001b[38;5;34m56\u001b[0m, \u001b[38;5;34m56\u001b[0m, \u001b[38;5;34m128\u001b[0m)    │             \u001b[38;5;34m0\u001b[0m │\n",
              "├─────────────────────────────────┼────────────────────────┼───────────────┤\n",
              "│ block3_conv1 (\u001b[38;5;33mConv2D\u001b[0m)           │ (\u001b[38;5;45mNone\u001b[0m, \u001b[38;5;34m56\u001b[0m, \u001b[38;5;34m56\u001b[0m, \u001b[38;5;34m256\u001b[0m)    │       \u001b[38;5;34m295,168\u001b[0m │\n",
              "├─────────────────────────────────┼────────────────────────┼───────────────┤\n",
              "│ block3_conv2 (\u001b[38;5;33mConv2D\u001b[0m)           │ (\u001b[38;5;45mNone\u001b[0m, \u001b[38;5;34m56\u001b[0m, \u001b[38;5;34m56\u001b[0m, \u001b[38;5;34m256\u001b[0m)    │       \u001b[38;5;34m590,080\u001b[0m │\n",
              "├─────────────────────────────────┼────────────────────────┼───────────────┤\n",
              "│ block3_conv3 (\u001b[38;5;33mConv2D\u001b[0m)           │ (\u001b[38;5;45mNone\u001b[0m, \u001b[38;5;34m56\u001b[0m, \u001b[38;5;34m56\u001b[0m, \u001b[38;5;34m256\u001b[0m)    │       \u001b[38;5;34m590,080\u001b[0m │\n",
              "├─────────────────────────────────┼────────────────────────┼───────────────┤\n",
              "│ block3_pool (\u001b[38;5;33mMaxPooling2D\u001b[0m)      │ (\u001b[38;5;45mNone\u001b[0m, \u001b[38;5;34m28\u001b[0m, \u001b[38;5;34m28\u001b[0m, \u001b[38;5;34m256\u001b[0m)    │             \u001b[38;5;34m0\u001b[0m │\n",
              "├─────────────────────────────────┼────────────────────────┼───────────────┤\n",
              "│ block4_conv1 (\u001b[38;5;33mConv2D\u001b[0m)           │ (\u001b[38;5;45mNone\u001b[0m, \u001b[38;5;34m28\u001b[0m, \u001b[38;5;34m28\u001b[0m, \u001b[38;5;34m512\u001b[0m)    │     \u001b[38;5;34m1,180,160\u001b[0m │\n",
              "├─────────────────────────────────┼────────────────────────┼───────────────┤\n",
              "│ block4_conv2 (\u001b[38;5;33mConv2D\u001b[0m)           │ (\u001b[38;5;45mNone\u001b[0m, \u001b[38;5;34m28\u001b[0m, \u001b[38;5;34m28\u001b[0m, \u001b[38;5;34m512\u001b[0m)    │     \u001b[38;5;34m2,359,808\u001b[0m │\n",
              "├─────────────────────────────────┼────────────────────────┼───────────────┤\n",
              "│ block4_conv3 (\u001b[38;5;33mConv2D\u001b[0m)           │ (\u001b[38;5;45mNone\u001b[0m, \u001b[38;5;34m28\u001b[0m, \u001b[38;5;34m28\u001b[0m, \u001b[38;5;34m512\u001b[0m)    │     \u001b[38;5;34m2,359,808\u001b[0m │\n",
              "├─────────────────────────────────┼────────────────────────┼───────────────┤\n",
              "│ block4_pool (\u001b[38;5;33mMaxPooling2D\u001b[0m)      │ (\u001b[38;5;45mNone\u001b[0m, \u001b[38;5;34m14\u001b[0m, \u001b[38;5;34m14\u001b[0m, \u001b[38;5;34m512\u001b[0m)    │             \u001b[38;5;34m0\u001b[0m │\n",
              "├─────────────────────────────────┼────────────────────────┼───────────────┤\n",
              "│ block5_conv1 (\u001b[38;5;33mConv2D\u001b[0m)           │ (\u001b[38;5;45mNone\u001b[0m, \u001b[38;5;34m14\u001b[0m, \u001b[38;5;34m14\u001b[0m, \u001b[38;5;34m512\u001b[0m)    │     \u001b[38;5;34m2,359,808\u001b[0m │\n",
              "├─────────────────────────────────┼────────────────────────┼───────────────┤\n",
              "│ block5_conv2 (\u001b[38;5;33mConv2D\u001b[0m)           │ (\u001b[38;5;45mNone\u001b[0m, \u001b[38;5;34m14\u001b[0m, \u001b[38;5;34m14\u001b[0m, \u001b[38;5;34m512\u001b[0m)    │     \u001b[38;5;34m2,359,808\u001b[0m │\n",
              "├─────────────────────────────────┼────────────────────────┼───────────────┤\n",
              "│ block5_conv3 (\u001b[38;5;33mConv2D\u001b[0m)           │ (\u001b[38;5;45mNone\u001b[0m, \u001b[38;5;34m14\u001b[0m, \u001b[38;5;34m14\u001b[0m, \u001b[38;5;34m512\u001b[0m)    │     \u001b[38;5;34m2,359,808\u001b[0m │\n",
              "├─────────────────────────────────┼────────────────────────┼───────────────┤\n",
              "│ block5_pool (\u001b[38;5;33mMaxPooling2D\u001b[0m)      │ (\u001b[38;5;45mNone\u001b[0m, \u001b[38;5;34m7\u001b[0m, \u001b[38;5;34m7\u001b[0m, \u001b[38;5;34m512\u001b[0m)      │             \u001b[38;5;34m0\u001b[0m │\n",
              "└─────────────────────────────────┴────────────────────────┴───────────────┘\n"
            ],
            "text/html": [
              "<pre style=\"white-space:pre;overflow-x:auto;line-height:normal;font-family:Menlo,'DejaVu Sans Mono',consolas,'Courier New',monospace\">┏━━━━━━━━━━━━━━━━━━━━━━━━━━━━━━━━━┳━━━━━━━━━━━━━━━━━━━━━━━━┳━━━━━━━━━━━━━━━┓\n",
              "┃<span style=\"font-weight: bold\"> Layer (type)                    </span>┃<span style=\"font-weight: bold\"> Output Shape           </span>┃<span style=\"font-weight: bold\">       Param # </span>┃\n",
              "┡━━━━━━━━━━━━━━━━━━━━━━━━━━━━━━━━━╇━━━━━━━━━━━━━━━━━━━━━━━━╇━━━━━━━━━━━━━━━┩\n",
              "│ input_layer (<span style=\"color: #0087ff; text-decoration-color: #0087ff\">InputLayer</span>)        │ (<span style=\"color: #00d7ff; text-decoration-color: #00d7ff\">None</span>, <span style=\"color: #00af00; text-decoration-color: #00af00\">224</span>, <span style=\"color: #00af00; text-decoration-color: #00af00\">224</span>, <span style=\"color: #00af00; text-decoration-color: #00af00\">3</span>)    │             <span style=\"color: #00af00; text-decoration-color: #00af00\">0</span> │\n",
              "├─────────────────────────────────┼────────────────────────┼───────────────┤\n",
              "│ block1_conv1 (<span style=\"color: #0087ff; text-decoration-color: #0087ff\">Conv2D</span>)           │ (<span style=\"color: #00d7ff; text-decoration-color: #00d7ff\">None</span>, <span style=\"color: #00af00; text-decoration-color: #00af00\">224</span>, <span style=\"color: #00af00; text-decoration-color: #00af00\">224</span>, <span style=\"color: #00af00; text-decoration-color: #00af00\">64</span>)   │         <span style=\"color: #00af00; text-decoration-color: #00af00\">1,792</span> │\n",
              "├─────────────────────────────────┼────────────────────────┼───────────────┤\n",
              "│ block1_conv2 (<span style=\"color: #0087ff; text-decoration-color: #0087ff\">Conv2D</span>)           │ (<span style=\"color: #00d7ff; text-decoration-color: #00d7ff\">None</span>, <span style=\"color: #00af00; text-decoration-color: #00af00\">224</span>, <span style=\"color: #00af00; text-decoration-color: #00af00\">224</span>, <span style=\"color: #00af00; text-decoration-color: #00af00\">64</span>)   │        <span style=\"color: #00af00; text-decoration-color: #00af00\">36,928</span> │\n",
              "├─────────────────────────────────┼────────────────────────┼───────────────┤\n",
              "│ block1_pool (<span style=\"color: #0087ff; text-decoration-color: #0087ff\">MaxPooling2D</span>)      │ (<span style=\"color: #00d7ff; text-decoration-color: #00d7ff\">None</span>, <span style=\"color: #00af00; text-decoration-color: #00af00\">112</span>, <span style=\"color: #00af00; text-decoration-color: #00af00\">112</span>, <span style=\"color: #00af00; text-decoration-color: #00af00\">64</span>)   │             <span style=\"color: #00af00; text-decoration-color: #00af00\">0</span> │\n",
              "├─────────────────────────────────┼────────────────────────┼───────────────┤\n",
              "│ block2_conv1 (<span style=\"color: #0087ff; text-decoration-color: #0087ff\">Conv2D</span>)           │ (<span style=\"color: #00d7ff; text-decoration-color: #00d7ff\">None</span>, <span style=\"color: #00af00; text-decoration-color: #00af00\">112</span>, <span style=\"color: #00af00; text-decoration-color: #00af00\">112</span>, <span style=\"color: #00af00; text-decoration-color: #00af00\">128</span>)  │        <span style=\"color: #00af00; text-decoration-color: #00af00\">73,856</span> │\n",
              "├─────────────────────────────────┼────────────────────────┼───────────────┤\n",
              "│ block2_conv2 (<span style=\"color: #0087ff; text-decoration-color: #0087ff\">Conv2D</span>)           │ (<span style=\"color: #00d7ff; text-decoration-color: #00d7ff\">None</span>, <span style=\"color: #00af00; text-decoration-color: #00af00\">112</span>, <span style=\"color: #00af00; text-decoration-color: #00af00\">112</span>, <span style=\"color: #00af00; text-decoration-color: #00af00\">128</span>)  │       <span style=\"color: #00af00; text-decoration-color: #00af00\">147,584</span> │\n",
              "├─────────────────────────────────┼────────────────────────┼───────────────┤\n",
              "│ block2_pool (<span style=\"color: #0087ff; text-decoration-color: #0087ff\">MaxPooling2D</span>)      │ (<span style=\"color: #00d7ff; text-decoration-color: #00d7ff\">None</span>, <span style=\"color: #00af00; text-decoration-color: #00af00\">56</span>, <span style=\"color: #00af00; text-decoration-color: #00af00\">56</span>, <span style=\"color: #00af00; text-decoration-color: #00af00\">128</span>)    │             <span style=\"color: #00af00; text-decoration-color: #00af00\">0</span> │\n",
              "├─────────────────────────────────┼────────────────────────┼───────────────┤\n",
              "│ block3_conv1 (<span style=\"color: #0087ff; text-decoration-color: #0087ff\">Conv2D</span>)           │ (<span style=\"color: #00d7ff; text-decoration-color: #00d7ff\">None</span>, <span style=\"color: #00af00; text-decoration-color: #00af00\">56</span>, <span style=\"color: #00af00; text-decoration-color: #00af00\">56</span>, <span style=\"color: #00af00; text-decoration-color: #00af00\">256</span>)    │       <span style=\"color: #00af00; text-decoration-color: #00af00\">295,168</span> │\n",
              "├─────────────────────────────────┼────────────────────────┼───────────────┤\n",
              "│ block3_conv2 (<span style=\"color: #0087ff; text-decoration-color: #0087ff\">Conv2D</span>)           │ (<span style=\"color: #00d7ff; text-decoration-color: #00d7ff\">None</span>, <span style=\"color: #00af00; text-decoration-color: #00af00\">56</span>, <span style=\"color: #00af00; text-decoration-color: #00af00\">56</span>, <span style=\"color: #00af00; text-decoration-color: #00af00\">256</span>)    │       <span style=\"color: #00af00; text-decoration-color: #00af00\">590,080</span> │\n",
              "├─────────────────────────────────┼────────────────────────┼───────────────┤\n",
              "│ block3_conv3 (<span style=\"color: #0087ff; text-decoration-color: #0087ff\">Conv2D</span>)           │ (<span style=\"color: #00d7ff; text-decoration-color: #00d7ff\">None</span>, <span style=\"color: #00af00; text-decoration-color: #00af00\">56</span>, <span style=\"color: #00af00; text-decoration-color: #00af00\">56</span>, <span style=\"color: #00af00; text-decoration-color: #00af00\">256</span>)    │       <span style=\"color: #00af00; text-decoration-color: #00af00\">590,080</span> │\n",
              "├─────────────────────────────────┼────────────────────────┼───────────────┤\n",
              "│ block3_pool (<span style=\"color: #0087ff; text-decoration-color: #0087ff\">MaxPooling2D</span>)      │ (<span style=\"color: #00d7ff; text-decoration-color: #00d7ff\">None</span>, <span style=\"color: #00af00; text-decoration-color: #00af00\">28</span>, <span style=\"color: #00af00; text-decoration-color: #00af00\">28</span>, <span style=\"color: #00af00; text-decoration-color: #00af00\">256</span>)    │             <span style=\"color: #00af00; text-decoration-color: #00af00\">0</span> │\n",
              "├─────────────────────────────────┼────────────────────────┼───────────────┤\n",
              "│ block4_conv1 (<span style=\"color: #0087ff; text-decoration-color: #0087ff\">Conv2D</span>)           │ (<span style=\"color: #00d7ff; text-decoration-color: #00d7ff\">None</span>, <span style=\"color: #00af00; text-decoration-color: #00af00\">28</span>, <span style=\"color: #00af00; text-decoration-color: #00af00\">28</span>, <span style=\"color: #00af00; text-decoration-color: #00af00\">512</span>)    │     <span style=\"color: #00af00; text-decoration-color: #00af00\">1,180,160</span> │\n",
              "├─────────────────────────────────┼────────────────────────┼───────────────┤\n",
              "│ block4_conv2 (<span style=\"color: #0087ff; text-decoration-color: #0087ff\">Conv2D</span>)           │ (<span style=\"color: #00d7ff; text-decoration-color: #00d7ff\">None</span>, <span style=\"color: #00af00; text-decoration-color: #00af00\">28</span>, <span style=\"color: #00af00; text-decoration-color: #00af00\">28</span>, <span style=\"color: #00af00; text-decoration-color: #00af00\">512</span>)    │     <span style=\"color: #00af00; text-decoration-color: #00af00\">2,359,808</span> │\n",
              "├─────────────────────────────────┼────────────────────────┼───────────────┤\n",
              "│ block4_conv3 (<span style=\"color: #0087ff; text-decoration-color: #0087ff\">Conv2D</span>)           │ (<span style=\"color: #00d7ff; text-decoration-color: #00d7ff\">None</span>, <span style=\"color: #00af00; text-decoration-color: #00af00\">28</span>, <span style=\"color: #00af00; text-decoration-color: #00af00\">28</span>, <span style=\"color: #00af00; text-decoration-color: #00af00\">512</span>)    │     <span style=\"color: #00af00; text-decoration-color: #00af00\">2,359,808</span> │\n",
              "├─────────────────────────────────┼────────────────────────┼───────────────┤\n",
              "│ block4_pool (<span style=\"color: #0087ff; text-decoration-color: #0087ff\">MaxPooling2D</span>)      │ (<span style=\"color: #00d7ff; text-decoration-color: #00d7ff\">None</span>, <span style=\"color: #00af00; text-decoration-color: #00af00\">14</span>, <span style=\"color: #00af00; text-decoration-color: #00af00\">14</span>, <span style=\"color: #00af00; text-decoration-color: #00af00\">512</span>)    │             <span style=\"color: #00af00; text-decoration-color: #00af00\">0</span> │\n",
              "├─────────────────────────────────┼────────────────────────┼───────────────┤\n",
              "│ block5_conv1 (<span style=\"color: #0087ff; text-decoration-color: #0087ff\">Conv2D</span>)           │ (<span style=\"color: #00d7ff; text-decoration-color: #00d7ff\">None</span>, <span style=\"color: #00af00; text-decoration-color: #00af00\">14</span>, <span style=\"color: #00af00; text-decoration-color: #00af00\">14</span>, <span style=\"color: #00af00; text-decoration-color: #00af00\">512</span>)    │     <span style=\"color: #00af00; text-decoration-color: #00af00\">2,359,808</span> │\n",
              "├─────────────────────────────────┼────────────────────────┼───────────────┤\n",
              "│ block5_conv2 (<span style=\"color: #0087ff; text-decoration-color: #0087ff\">Conv2D</span>)           │ (<span style=\"color: #00d7ff; text-decoration-color: #00d7ff\">None</span>, <span style=\"color: #00af00; text-decoration-color: #00af00\">14</span>, <span style=\"color: #00af00; text-decoration-color: #00af00\">14</span>, <span style=\"color: #00af00; text-decoration-color: #00af00\">512</span>)    │     <span style=\"color: #00af00; text-decoration-color: #00af00\">2,359,808</span> │\n",
              "├─────────────────────────────────┼────────────────────────┼───────────────┤\n",
              "│ block5_conv3 (<span style=\"color: #0087ff; text-decoration-color: #0087ff\">Conv2D</span>)           │ (<span style=\"color: #00d7ff; text-decoration-color: #00d7ff\">None</span>, <span style=\"color: #00af00; text-decoration-color: #00af00\">14</span>, <span style=\"color: #00af00; text-decoration-color: #00af00\">14</span>, <span style=\"color: #00af00; text-decoration-color: #00af00\">512</span>)    │     <span style=\"color: #00af00; text-decoration-color: #00af00\">2,359,808</span> │\n",
              "├─────────────────────────────────┼────────────────────────┼───────────────┤\n",
              "│ block5_pool (<span style=\"color: #0087ff; text-decoration-color: #0087ff\">MaxPooling2D</span>)      │ (<span style=\"color: #00d7ff; text-decoration-color: #00d7ff\">None</span>, <span style=\"color: #00af00; text-decoration-color: #00af00\">7</span>, <span style=\"color: #00af00; text-decoration-color: #00af00\">7</span>, <span style=\"color: #00af00; text-decoration-color: #00af00\">512</span>)      │             <span style=\"color: #00af00; text-decoration-color: #00af00\">0</span> │\n",
              "└─────────────────────────────────┴────────────────────────┴───────────────┘\n",
              "</pre>\n"
            ]
          },
          "metadata": {}
        },
        {
          "output_type": "display_data",
          "data": {
            "text/plain": [
              "\u001b[1m Total params: \u001b[0m\u001b[38;5;34m14,714,688\u001b[0m (56.13 MB)\n"
            ],
            "text/html": [
              "<pre style=\"white-space:pre;overflow-x:auto;line-height:normal;font-family:Menlo,'DejaVu Sans Mono',consolas,'Courier New',monospace\"><span style=\"font-weight: bold\"> Total params: </span><span style=\"color: #00af00; text-decoration-color: #00af00\">14,714,688</span> (56.13 MB)\n",
              "</pre>\n"
            ]
          },
          "metadata": {}
        },
        {
          "output_type": "display_data",
          "data": {
            "text/plain": [
              "\u001b[1m Trainable params: \u001b[0m\u001b[38;5;34m0\u001b[0m (0.00 B)\n"
            ],
            "text/html": [
              "<pre style=\"white-space:pre;overflow-x:auto;line-height:normal;font-family:Menlo,'DejaVu Sans Mono',consolas,'Courier New',monospace\"><span style=\"font-weight: bold\"> Trainable params: </span><span style=\"color: #00af00; text-decoration-color: #00af00\">0</span> (0.00 B)\n",
              "</pre>\n"
            ]
          },
          "metadata": {}
        },
        {
          "output_type": "display_data",
          "data": {
            "text/plain": [
              "\u001b[1m Non-trainable params: \u001b[0m\u001b[38;5;34m14,714,688\u001b[0m (56.13 MB)\n"
            ],
            "text/html": [
              "<pre style=\"white-space:pre;overflow-x:auto;line-height:normal;font-family:Menlo,'DejaVu Sans Mono',consolas,'Courier New',monospace\"><span style=\"font-weight: bold\"> Non-trainable params: </span><span style=\"color: #00af00; text-decoration-color: #00af00\">14,714,688</span> (56.13 MB)\n",
              "</pre>\n"
            ]
          },
          "metadata": {}
        }
      ]
    },
    {
      "cell_type": "markdown",
      "source": [
        "## Personalizando o modelo"
      ],
      "metadata": {
        "id": "QnNleNSFwc5J"
      }
    },
    {
      "cell_type": "markdown",
      "source": [
        "### Parâmetros"
      ],
      "metadata": {
        "id": "iZ06AZiCyf80"
      }
    },
    {
      "cell_type": "code",
      "source": [
        "BASE_LEARNING_RATE = 0.001 # Taxa de aprendizado inicial, é corrigido até no mínimo de 10e-6 no treinamento\n",
        "\n",
        "# Métricas de validação a serem salvas. A sugestão do professor de medir o f1_score foi implementada posteriormente com scikit_learn pois é um cálculo partindo do recall e da precisão\n",
        "METRICS = ['accuracy', 'precision', 'recall']"
      ],
      "metadata": {
        "id": "fEVfiDyNyhVu"
      },
      "execution_count": 56,
      "outputs": []
    },
    {
      "cell_type": "markdown",
      "source": [
        "### Escolhendo as camadas personalizadas"
      ],
      "metadata": {
        "id": "cxMU61xGw0Fy"
      }
    },
    {
      "cell_type": "code",
      "source": [
        "inputs = keras.Input(shape = INPUT_SHAPE)\n",
        "aux = base_model(inputs, training = False) # Passando o modelo para uma variável auxiliar onde adicionaremos as camadas personalizadas\n",
        "\n",
        "# Camadas\n",
        "aux = GlobalAveragePooling2D()(aux) # Converte as features (características) 2D em 1D (para criar um vetor no lugar da matriz)\n",
        "aux = Dropout(0.3)(aux) # Removendo 50% dos neurônios para evitar o overfitting. Os neurônios removidos são das camadas novas e são removidos só no treino. No teste e validação eles participam. Dropout reduzido para 0.3 como sugestão do professor\n",
        "aux = Dense(128, activation = 'relu')(aux) # Camada densa com 128 neurônios e função Relu de ativação\n",
        "aux = Dropout(0.3)(aux) # Outro dropout. Dropout reduzido para 0.15 após teste de limite de dropout sem overffiting. Sugestão do professor\n",
        "outputs = Dense(1, activation = 'sigmoid')(aux) # Camada de saída com apenas 1 neurônio e função de ativação sigmoid para sair de 0-1 (probabilidade de catarata)"
      ],
      "metadata": {
        "id": "e5MwgrhkxK9V"
      },
      "execution_count": 57,
      "outputs": []
    },
    {
      "cell_type": "markdown",
      "source": [
        "### Criando o modelo personalizado com as camadas novas"
      ],
      "metadata": {
        "id": "GaRJVEBOx0sJ"
      }
    },
    {
      "cell_type": "code",
      "source": [
        "model = Model(inputs, outputs)\n",
        "print(\"Modelo criado com sucesso!\")"
      ],
      "metadata": {
        "colab": {
          "base_uri": "https://localhost:8080/"
        },
        "id": "0SF8VbJPx6wI",
        "outputId": "69e142bd-2345-413a-ec9c-014c7a43bc8a"
      },
      "execution_count": 58,
      "outputs": [
        {
          "output_type": "stream",
          "name": "stdout",
          "text": [
            "Modelo criado com sucesso!\n"
          ]
        }
      ]
    },
    {
      "cell_type": "markdown",
      "source": [
        "### Compilando o modelo criado"
      ],
      "metadata": {
        "id": "UmsilUJ2yFgD"
      }
    },
    {
      "cell_type": "code",
      "source": [
        "model.compile(\n",
        "    optimizer = keras.optimizers.Adam(learning_rate= BASE_LEARNING_RATE),\n",
        "    loss = 'binary_crossentropy',\n",
        "    metrics = METRICS\n",
        ")\n",
        "\n",
        "print(\"Modelo compilado com sucesso!\")\n",
        "model.summary()"
      ],
      "metadata": {
        "colab": {
          "base_uri": "https://localhost:8080/",
          "height": 408
        },
        "id": "NG_HPf7GyHy3",
        "outputId": "458120b1-dd7b-4c2e-c2e6-29222d91e4cb"
      },
      "execution_count": 59,
      "outputs": [
        {
          "output_type": "stream",
          "name": "stdout",
          "text": [
            "Modelo compilado com sucesso!\n"
          ]
        },
        {
          "output_type": "display_data",
          "data": {
            "text/plain": [
              "\u001b[1mModel: \"functional_1\"\u001b[0m\n"
            ],
            "text/html": [
              "<pre style=\"white-space:pre;overflow-x:auto;line-height:normal;font-family:Menlo,'DejaVu Sans Mono',consolas,'Courier New',monospace\"><span style=\"font-weight: bold\">Model: \"functional_1\"</span>\n",
              "</pre>\n"
            ]
          },
          "metadata": {}
        },
        {
          "output_type": "display_data",
          "data": {
            "text/plain": [
              "┏━━━━━━━━━━━━━━━━━━━━━━━━━━━━━━━━━┳━━━━━━━━━━━━━━━━━━━━━━━━┳━━━━━━━━━━━━━━━┓\n",
              "┃\u001b[1m \u001b[0m\u001b[1mLayer (type)                   \u001b[0m\u001b[1m \u001b[0m┃\u001b[1m \u001b[0m\u001b[1mOutput Shape          \u001b[0m\u001b[1m \u001b[0m┃\u001b[1m \u001b[0m\u001b[1m      Param #\u001b[0m\u001b[1m \u001b[0m┃\n",
              "┡━━━━━━━━━━━━━━━━━━━━━━━━━━━━━━━━━╇━━━━━━━━━━━━━━━━━━━━━━━━╇━━━━━━━━━━━━━━━┩\n",
              "│ input_layer_2 (\u001b[38;5;33mInputLayer\u001b[0m)      │ (\u001b[38;5;45mNone\u001b[0m, \u001b[38;5;34m224\u001b[0m, \u001b[38;5;34m224\u001b[0m, \u001b[38;5;34m3\u001b[0m)    │             \u001b[38;5;34m0\u001b[0m │\n",
              "├─────────────────────────────────┼────────────────────────┼───────────────┤\n",
              "│ vgg16 (\u001b[38;5;33mFunctional\u001b[0m)              │ (\u001b[38;5;45mNone\u001b[0m, \u001b[38;5;34m7\u001b[0m, \u001b[38;5;34m7\u001b[0m, \u001b[38;5;34m512\u001b[0m)      │    \u001b[38;5;34m14,714,688\u001b[0m │\n",
              "├─────────────────────────────────┼────────────────────────┼───────────────┤\n",
              "│ global_average_pooling2d_1      │ (\u001b[38;5;45mNone\u001b[0m, \u001b[38;5;34m512\u001b[0m)            │             \u001b[38;5;34m0\u001b[0m │\n",
              "│ (\u001b[38;5;33mGlobalAveragePooling2D\u001b[0m)        │                        │               │\n",
              "├─────────────────────────────────┼────────────────────────┼───────────────┤\n",
              "│ dropout_2 (\u001b[38;5;33mDropout\u001b[0m)             │ (\u001b[38;5;45mNone\u001b[0m, \u001b[38;5;34m512\u001b[0m)            │             \u001b[38;5;34m0\u001b[0m │\n",
              "├─────────────────────────────────┼────────────────────────┼───────────────┤\n",
              "│ dense_2 (\u001b[38;5;33mDense\u001b[0m)                 │ (\u001b[38;5;45mNone\u001b[0m, \u001b[38;5;34m128\u001b[0m)            │        \u001b[38;5;34m65,664\u001b[0m │\n",
              "├─────────────────────────────────┼────────────────────────┼───────────────┤\n",
              "│ dropout_3 (\u001b[38;5;33mDropout\u001b[0m)             │ (\u001b[38;5;45mNone\u001b[0m, \u001b[38;5;34m128\u001b[0m)            │             \u001b[38;5;34m0\u001b[0m │\n",
              "├─────────────────────────────────┼────────────────────────┼───────────────┤\n",
              "│ dense_3 (\u001b[38;5;33mDense\u001b[0m)                 │ (\u001b[38;5;45mNone\u001b[0m, \u001b[38;5;34m1\u001b[0m)              │           \u001b[38;5;34m129\u001b[0m │\n",
              "└─────────────────────────────────┴────────────────────────┴───────────────┘\n"
            ],
            "text/html": [
              "<pre style=\"white-space:pre;overflow-x:auto;line-height:normal;font-family:Menlo,'DejaVu Sans Mono',consolas,'Courier New',monospace\">┏━━━━━━━━━━━━━━━━━━━━━━━━━━━━━━━━━┳━━━━━━━━━━━━━━━━━━━━━━━━┳━━━━━━━━━━━━━━━┓\n",
              "┃<span style=\"font-weight: bold\"> Layer (type)                    </span>┃<span style=\"font-weight: bold\"> Output Shape           </span>┃<span style=\"font-weight: bold\">       Param # </span>┃\n",
              "┡━━━━━━━━━━━━━━━━━━━━━━━━━━━━━━━━━╇━━━━━━━━━━━━━━━━━━━━━━━━╇━━━━━━━━━━━━━━━┩\n",
              "│ input_layer_2 (<span style=\"color: #0087ff; text-decoration-color: #0087ff\">InputLayer</span>)      │ (<span style=\"color: #00d7ff; text-decoration-color: #00d7ff\">None</span>, <span style=\"color: #00af00; text-decoration-color: #00af00\">224</span>, <span style=\"color: #00af00; text-decoration-color: #00af00\">224</span>, <span style=\"color: #00af00; text-decoration-color: #00af00\">3</span>)    │             <span style=\"color: #00af00; text-decoration-color: #00af00\">0</span> │\n",
              "├─────────────────────────────────┼────────────────────────┼───────────────┤\n",
              "│ vgg16 (<span style=\"color: #0087ff; text-decoration-color: #0087ff\">Functional</span>)              │ (<span style=\"color: #00d7ff; text-decoration-color: #00d7ff\">None</span>, <span style=\"color: #00af00; text-decoration-color: #00af00\">7</span>, <span style=\"color: #00af00; text-decoration-color: #00af00\">7</span>, <span style=\"color: #00af00; text-decoration-color: #00af00\">512</span>)      │    <span style=\"color: #00af00; text-decoration-color: #00af00\">14,714,688</span> │\n",
              "├─────────────────────────────────┼────────────────────────┼───────────────┤\n",
              "│ global_average_pooling2d_1      │ (<span style=\"color: #00d7ff; text-decoration-color: #00d7ff\">None</span>, <span style=\"color: #00af00; text-decoration-color: #00af00\">512</span>)            │             <span style=\"color: #00af00; text-decoration-color: #00af00\">0</span> │\n",
              "│ (<span style=\"color: #0087ff; text-decoration-color: #0087ff\">GlobalAveragePooling2D</span>)        │                        │               │\n",
              "├─────────────────────────────────┼────────────────────────┼───────────────┤\n",
              "│ dropout_2 (<span style=\"color: #0087ff; text-decoration-color: #0087ff\">Dropout</span>)             │ (<span style=\"color: #00d7ff; text-decoration-color: #00d7ff\">None</span>, <span style=\"color: #00af00; text-decoration-color: #00af00\">512</span>)            │             <span style=\"color: #00af00; text-decoration-color: #00af00\">0</span> │\n",
              "├─────────────────────────────────┼────────────────────────┼───────────────┤\n",
              "│ dense_2 (<span style=\"color: #0087ff; text-decoration-color: #0087ff\">Dense</span>)                 │ (<span style=\"color: #00d7ff; text-decoration-color: #00d7ff\">None</span>, <span style=\"color: #00af00; text-decoration-color: #00af00\">128</span>)            │        <span style=\"color: #00af00; text-decoration-color: #00af00\">65,664</span> │\n",
              "├─────────────────────────────────┼────────────────────────┼───────────────┤\n",
              "│ dropout_3 (<span style=\"color: #0087ff; text-decoration-color: #0087ff\">Dropout</span>)             │ (<span style=\"color: #00d7ff; text-decoration-color: #00d7ff\">None</span>, <span style=\"color: #00af00; text-decoration-color: #00af00\">128</span>)            │             <span style=\"color: #00af00; text-decoration-color: #00af00\">0</span> │\n",
              "├─────────────────────────────────┼────────────────────────┼───────────────┤\n",
              "│ dense_3 (<span style=\"color: #0087ff; text-decoration-color: #0087ff\">Dense</span>)                 │ (<span style=\"color: #00d7ff; text-decoration-color: #00d7ff\">None</span>, <span style=\"color: #00af00; text-decoration-color: #00af00\">1</span>)              │           <span style=\"color: #00af00; text-decoration-color: #00af00\">129</span> │\n",
              "└─────────────────────────────────┴────────────────────────┴───────────────┘\n",
              "</pre>\n"
            ]
          },
          "metadata": {}
        },
        {
          "output_type": "display_data",
          "data": {
            "text/plain": [
              "\u001b[1m Total params: \u001b[0m\u001b[38;5;34m14,780,481\u001b[0m (56.38 MB)\n"
            ],
            "text/html": [
              "<pre style=\"white-space:pre;overflow-x:auto;line-height:normal;font-family:Menlo,'DejaVu Sans Mono',consolas,'Courier New',monospace\"><span style=\"font-weight: bold\"> Total params: </span><span style=\"color: #00af00; text-decoration-color: #00af00\">14,780,481</span> (56.38 MB)\n",
              "</pre>\n"
            ]
          },
          "metadata": {}
        },
        {
          "output_type": "display_data",
          "data": {
            "text/plain": [
              "\u001b[1m Trainable params: \u001b[0m\u001b[38;5;34m65,793\u001b[0m (257.00 KB)\n"
            ],
            "text/html": [
              "<pre style=\"white-space:pre;overflow-x:auto;line-height:normal;font-family:Menlo,'DejaVu Sans Mono',consolas,'Courier New',monospace\"><span style=\"font-weight: bold\"> Trainable params: </span><span style=\"color: #00af00; text-decoration-color: #00af00\">65,793</span> (257.00 KB)\n",
              "</pre>\n"
            ]
          },
          "metadata": {}
        },
        {
          "output_type": "display_data",
          "data": {
            "text/plain": [
              "\u001b[1m Non-trainable params: \u001b[0m\u001b[38;5;34m14,714,688\u001b[0m (56.13 MB)\n"
            ],
            "text/html": [
              "<pre style=\"white-space:pre;overflow-x:auto;line-height:normal;font-family:Menlo,'DejaVu Sans Mono',consolas,'Courier New',monospace\"><span style=\"font-weight: bold\"> Non-trainable params: </span><span style=\"color: #00af00; text-decoration-color: #00af00\">14,714,688</span> (56.13 MB)\n",
              "</pre>\n"
            ]
          },
          "metadata": {}
        }
      ]
    },
    {
      "cell_type": "markdown",
      "source": [
        "## Treinamento do modelo"
      ],
      "metadata": {
        "id": "FbKVcWwvfTTQ"
      }
    },
    {
      "cell_type": "markdown",
      "source": [
        "### Parâmetros"
      ],
      "metadata": {
        "id": "4JMCRPM9zoLn"
      }
    },
    {
      "cell_type": "code",
      "source": [
        "EARLY_STOP_PATIENCE = 10 # Número de épocas sem melhora para o early stopping\n",
        "EARLY_STOP_METRIC = 'val_recall' # Métrica a ser monitorada para o early stopping\n",
        "EARLY_STOP_MODE = 'max' # Diz o que espero da métrica (maximizar ou minimizar)\n",
        "EARLY_STOP_OTHER_METRIC = 'val_accuracy' # Outra métrica a ser monitorada para o early stopping\n",
        "EARLY_STOP_OTHER_MODE = 'min'\n",
        "EARLY_STOP_OTHER_TARGET = 0.9\n",
        "MAX_EPOCHS = 60 # Número máximo de épocas para o treinamento"
      ],
      "metadata": {
        "id": "QsU42ut2zmBM"
      },
      "execution_count": 60,
      "outputs": []
    },
    {
      "cell_type": "markdown",
      "source": [
        "### Escolhendo e configurando os callbacks"
      ],
      "metadata": {
        "id": "2pg-iWf-zbst"
      }
    },
    {
      "cell_type": "markdown",
      "source": [
        "#### Criando callbacks personalizados"
      ],
      "metadata": {
        "id": "22dT9XKKXmo-"
      }
    },
    {
      "cell_type": "markdown",
      "source": [
        "##### early_stopping personalizado"
      ],
      "metadata": {
        "id": "BbseN7euXrBV"
      }
    },
    {
      "cell_type": "code",
      "source": [
        "# Criando uma classe que herda da classe Callback do Keras para personalizar o funcionamento\n",
        "class CustomEarlyStopping(Callback):\n",
        "  def __init__(self, monitor=\"val_recall\", other_monitor=\"val_accuracy\", mode_other='min', target_other=0.9, patience=10, mode='max'):\n",
        "    super(CustomEarlyStopping, self).__init__()\n",
        "    self.monitor = monitor\n",
        "    self.other_monitor = other_monitor\n",
        "    self.mode_other = mode_other\n",
        "    self.target_other = target_other\n",
        "    self.patience = patience\n",
        "    self.mode = mode\n",
        "    self.best = -float(\"inf\") if mode ==\"max\" else float(\"inf\") # Salva um valor a ser batido na primeira época em \"best\"\n",
        "    self.wait = 0\n",
        "\n",
        "  def on_epoch_end(self, epoch, logs=None):\n",
        "    logs = logs or {}\n",
        "\n",
        "    monitor_value = logs.get(self.monitor) # obtem o valor da primeira métrica\n",
        "    other_monitor_value = logs.get(self.other_monitor) # obtém o valor da segunda métrica\n",
        "\n",
        "    if self.mode_other == 'min':\n",
        "      if other_monitor_value >= self.target_other:\n",
        "        if(self.mode == 'max' and monitor_value > self.best) or (self.mode == 'min' and monitor_value < self.best):\n",
        "          self.best = monitor_value\n",
        "          self.wait = 0\n",
        "        else:\n",
        "          self.wait += 1\n",
        "        if self.wait >= self.patience:\n",
        "          print(f\"\\nÉpoca {epoch + 1}: {self.monitor} obteve um melhor resultado com: {self.best}, sendo que {self.other_monitor} atingiu {self.other_monitor_value}\")\n",
        "          self.model.stop_training = True\n",
        "      else:\n",
        "        print(f\"\\nIgnorando {self.monitor} pois {self.other_monitor} não atingiu {self.target_other}\")\n",
        "    if self.mode_other == 'max':\n",
        "      if self.other_monitor_value < self.target_other:\n",
        "        if(self.mode == 'max' and monitor_value > self.best) or (self.mode == 'min' and monitor_value < self.best):\n",
        "          self.best = monitor_value\n",
        "          self.wait = 0\n",
        "        else:\n",
        "          self.wait += 1\n",
        "        if self.wait >= self.patience:\n",
        "          print(f\"\\nÉpoca {epoch + 1}: {self.monitor} obteve um melhor resultado com: {self.best}, sendo que {self.other_monitor} atingiu {self.other_monitor_value}\")\n",
        "          self.model.stop_training = True\n",
        "      else:\n",
        "        print(f\"\\nIgnorando {self.monitor} pois {self.other_monitor} não atingiu {self.target_other}\")"
      ],
      "metadata": {
        "id": "nmFlaDQ7Xu5f"
      },
      "execution_count": 65,
      "outputs": []
    },
    {
      "cell_type": "markdown",
      "source": [
        "##### checkpoint personalizado"
      ],
      "metadata": {
        "id": "TAMGCPOBe5Te"
      }
    },
    {
      "cell_type": "code",
      "source": [
        "class CustomModelCheckpoint(Callback):\n",
        "  def __init__(self, filepath, monitor='val_recall', mode='max', other_monitor='val_accuracy', other_target=0.9, mode_other='min'):\n",
        "    super(CustomModelCheckpoint, self).__init__()\n",
        "    self.filepath = filepath\n",
        "    self.monitor = monitor\n",
        "    self.mode = mode\n",
        "    self.other_monitor = other_monitor\n",
        "    self.other_target = other_target\n",
        "    self.mode_other = mode_other\n",
        "    self.best = -float(\"inf\") if mode ==\"max\" else float(\"inf\") # Salva um valor a ser batido na primeira época em \"best\"\n",
        "\n",
        "  def on_epoch_end(self, epoch, logs=None):\n",
        "    logs = logs or {}\n",
        "\n",
        "    monitor_value = logs.get(self.monitor) # obtem o valor da primeira métrica\n",
        "    other_monitor_value = logs.get(self.other_monitor) # obtém o valor da segunda métrica\n",
        "\n",
        "    if monitor_value is None or other_monitor_value is None:\n",
        "      return\n",
        "\n",
        "    if self.mode_other == 'min':\n",
        "      if other_monitor_value >= self.other_target:\n",
        "        if(self.mode == 'max' and monitor_value > self.best) or (self.mode == 'min' and monitor_value < self.best):\n",
        "          self.best = monitor_value\n",
        "          self.model.save(self.filepath)\n",
        "          print(f\"Modelo salvo em: {self.filepath}\")\n",
        "      else:\n",
        "        if self.best < other_monitor_value:\n",
        "          self.best = other_monitor_value\n",
        "          self.model.save(self.filepath)\n",
        "          print(f\"Modelo salvo em: {self.filepath}\")\n",
        "\n",
        "    if self.mode_other == 'max':\n",
        "      if other_monitor_value < self.other_target:\n",
        "        if(self.mode == 'max' and monitor_value > self.best) or (self.mode == 'min' and monitor_value < self.best):\n",
        "          self.best = monitor_value\n",
        "          self.model.save(self.filepath)\n",
        "          print(f\"Modelo salvo em: {self.filepath}\")\n",
        "      else:\n",
        "        if self.best > other_monitor_value:\n",
        "          self.best = other_monitor_value\n",
        "          self.model.save(self.filepath)\n",
        "          print(f\"Modelo salvo em: {self.filepath}\")"
      ],
      "metadata": {
        "id": "AgYAUdD5e-r5"
      },
      "execution_count": 66,
      "outputs": []
    },
    {
      "cell_type": "code",
      "source": [
        "custom_early_stopping = CustomEarlyStopping(\n",
        "    monitor = EARLY_STOP_METRIC,\n",
        "    mode = EARLY_STOP_MODE,\n",
        "    other_monitor = EARLY_STOP_OTHER_METRIC,\n",
        "    mode_other = EARLY_STOP_OTHER_MODE,\n",
        "    target_other= 0.92,\n",
        "    patience = EARLY_STOP_PATIENCE\n",
        ")\n",
        "\n",
        "checkpoint = CustomModelCheckpoint(\n",
        "    f'best_model_{base_model.name}.keras',\n",
        "    monitor = EARLY_STOP_METRIC,\n",
        "    mode = EARLY_STOP_MODE,\n",
        "    other_monitor = EARLY_STOP_OTHER_METRIC,\n",
        "    mode_other = EARLY_STOP_OTHER_MODE,\n",
        "    other_target = EARLY_STOP_OTHER_TARGET\n",
        ")\n",
        "\n",
        "reduce_lr = ReduceLROnPlateau( # Isso reduz o learning rate do otimizador Adam quando chegamos num platô de aprendizagem (empaca)\n",
        "    monitor = 'val_loss', # Monitora a perda na validação para verificar se a perda não está mudando (tendendo a um platô)\n",
        "    factor = 0.2, # Quando acontecer, ele reduz a taxa de aprendizagem em 20%\n",
        "    patience = 3, # Espera 3 épocas sem melhora\n",
        "    min_lr = 0.000001, # Esse é o menor learning rate aceito\n",
        "    verbose = 1\n",
        ")\n"
      ],
      "metadata": {
        "id": "t4L0HNTQzh9T"
      },
      "execution_count": 67,
      "outputs": []
    },
    {
      "cell_type": "markdown",
      "source": [
        "### Treinando o modelo"
      ],
      "metadata": {
        "id": "3x_QROXP0znt"
      }
    },
    {
      "cell_type": "code",
      "source": [
        "history = model.fit( # fit é o treinamento de fato\n",
        "    train_generator, # os dados que geramos para treino\n",
        "    epochs = MAX_EPOCHS, # quantidade máxima de épocas\n",
        "    validation_data = validation_generator, # dados que geramos para validação\n",
        "    callbacks = [custom_early_stopping, reduce_lr, checkpoint], #[early_stopping, reduce_lr, checkpoint], # callbacks que serão monitorados\n",
        "    verbose = 1\n",
        ")\n",
        "\n",
        "print(\"Treinamento concluído!\")"
      ],
      "metadata": {
        "colab": {
          "base_uri": "https://localhost:8080/"
        },
        "id": "6plaiNzk02No",
        "outputId": "054bcd51-80af-4a34-ad41-34073179d090"
      },
      "execution_count": 68,
      "outputs": [
        {
          "output_type": "stream",
          "name": "stdout",
          "text": [
            "Epoch 1/60\n",
            "\u001b[1m13/13\u001b[0m \u001b[32m━━━━━━━━━━━━━━━━━━━━\u001b[0m\u001b[37m\u001b[0m \u001b[1m0s\u001b[0m 1s/step - accuracy: 0.9151 - loss: 0.2397 - precision: 0.8958 - recall: 0.9430Modelo salvo em: best_model_vgg16.keras\n",
            "\u001b[1m13/13\u001b[0m \u001b[32m━━━━━━━━━━━━━━━━━━━━\u001b[0m\u001b[37m\u001b[0m \u001b[1m21s\u001b[0m 2s/step - accuracy: 0.9139 - loss: 0.2413 - precision: 0.8954 - recall: 0.9405 - val_accuracy: 0.9286 - val_loss: 0.2196 - val_precision: 0.9375 - val_recall: 0.9184 - learning_rate: 0.0010\n",
            "Epoch 2/60\n",
            "\u001b[1m13/13\u001b[0m \u001b[32m━━━━━━━━━━━━━━━━━━━━\u001b[0m\u001b[37m\u001b[0m \u001b[1m0s\u001b[0m 1s/step - accuracy: 0.8496 - loss: 0.3012 - precision: 0.8344 - recall: 0.8463\n",
            "Ignorando val_recall pois val_accuracy não atingiu 0.92\n",
            "\u001b[1m13/13\u001b[0m \u001b[32m━━━━━━━━━━━━━━━━━━━━\u001b[0m\u001b[37m\u001b[0m \u001b[1m18s\u001b[0m 1s/step - accuracy: 0.8505 - loss: 0.3004 - precision: 0.8364 - recall: 0.8475 - val_accuracy: 0.8878 - val_loss: 0.2457 - val_precision: 0.8276 - val_recall: 0.9796 - learning_rate: 0.0010\n",
            "Epoch 3/60\n",
            "\u001b[1m13/13\u001b[0m \u001b[32m━━━━━━━━━━━━━━━━━━━━\u001b[0m\u001b[37m\u001b[0m \u001b[1m0s\u001b[0m 1s/step - accuracy: 0.9049 - loss: 0.2795 - precision: 0.8859 - recall: 0.9366\n",
            "Ignorando val_recall pois val_accuracy não atingiu 0.92\n",
            "\u001b[1m13/13\u001b[0m \u001b[32m━━━━━━━━━━━━━━━━━━━━\u001b[0m\u001b[37m\u001b[0m \u001b[1m19s\u001b[0m 1s/step - accuracy: 0.9031 - loss: 0.2799 - precision: 0.8841 - recall: 0.9346 - val_accuracy: 0.9184 - val_loss: 0.2151 - val_precision: 0.9362 - val_recall: 0.8980 - learning_rate: 0.0010\n",
            "Epoch 4/60\n",
            "\u001b[1m13/13\u001b[0m \u001b[32m━━━━━━━━━━━━━━━━━━━━\u001b[0m\u001b[37m\u001b[0m \u001b[1m0s\u001b[0m 1s/step - accuracy: 0.9082 - loss: 0.2500 - precision: 0.9001 - recall: 0.9274\n",
            "Ignorando val_recall pois val_accuracy não atingiu 0.92\n",
            "\u001b[1m13/13\u001b[0m \u001b[32m━━━━━━━━━━━━━━━━━━━━\u001b[0m\u001b[37m\u001b[0m \u001b[1m19s\u001b[0m 1s/step - accuracy: 0.9066 - loss: 0.2522 - precision: 0.8979 - recall: 0.9260 - val_accuracy: 0.9184 - val_loss: 0.2118 - val_precision: 0.9362 - val_recall: 0.8980 - learning_rate: 0.0010\n",
            "Epoch 5/60\n",
            "\u001b[1m13/13\u001b[0m \u001b[32m━━━━━━━━━━━━━━━━━━━━\u001b[0m\u001b[37m\u001b[0m \u001b[1m0s\u001b[0m 1s/step - accuracy: 0.8858 - loss: 0.2772 - precision: 0.8853 - recall: 0.8889\n",
            "Ignorando val_recall pois val_accuracy não atingiu 0.92\n",
            "\u001b[1m13/13\u001b[0m \u001b[32m━━━━━━━━━━━━━━━━━━━━\u001b[0m\u001b[37m\u001b[0m \u001b[1m18s\u001b[0m 1s/step - accuracy: 0.8854 - loss: 0.2773 - precision: 0.8838 - recall: 0.8900 - val_accuracy: 0.9082 - val_loss: 0.2089 - val_precision: 0.9167 - val_recall: 0.8980 - learning_rate: 0.0010\n",
            "Epoch 6/60\n",
            "\u001b[1m13/13\u001b[0m \u001b[32m━━━━━━━━━━━━━━━━━━━━\u001b[0m\u001b[37m\u001b[0m \u001b[1m0s\u001b[0m 1s/step - accuracy: 0.8632 - loss: 0.2896 - precision: 0.8766 - recall: 0.8571\n",
            "Ignorando val_recall pois val_accuracy não atingiu 0.92\n",
            "\u001b[1m13/13\u001b[0m \u001b[32m━━━━━━━━━━━━━━━━━━━━\u001b[0m\u001b[37m\u001b[0m \u001b[1m21s\u001b[0m 1s/step - accuracy: 0.8644 - loss: 0.2879 - precision: 0.8767 - recall: 0.8590 - val_accuracy: 0.9082 - val_loss: 0.2071 - val_precision: 0.9000 - val_recall: 0.9184 - learning_rate: 0.0010\n",
            "Epoch 7/60\n",
            "\u001b[1m13/13\u001b[0m \u001b[32m━━━━━━━━━━━━━━━━━━━━\u001b[0m\u001b[37m\u001b[0m \u001b[1m0s\u001b[0m 1s/step - accuracy: 0.9066 - loss: 0.2581 - precision: 0.8802 - recall: 0.9374Modelo salvo em: best_model_vgg16.keras\n",
            "\u001b[1m13/13\u001b[0m \u001b[32m━━━━━━━━━━━━━━━━━━━━\u001b[0m\u001b[37m\u001b[0m \u001b[1m18s\u001b[0m 1s/step - accuracy: 0.9060 - loss: 0.2591 - precision: 0.8806 - recall: 0.9357 - val_accuracy: 0.9388 - val_loss: 0.2194 - val_precision: 0.9057 - val_recall: 0.9796 - learning_rate: 0.0010\n",
            "Epoch 8/60\n",
            "\u001b[1m13/13\u001b[0m \u001b[32m━━━━━━━━━━━━━━━━━━━━\u001b[0m\u001b[37m\u001b[0m \u001b[1m0s\u001b[0m 1s/step - accuracy: 0.8870 - loss: 0.2912 - precision: 0.8508 - recall: 0.9262\n",
            "Ignorando val_recall pois val_accuracy não atingiu 0.92\n",
            "\u001b[1m13/13\u001b[0m \u001b[32m━━━━━━━━━━━━━━━━━━━━\u001b[0m\u001b[37m\u001b[0m \u001b[1m19s\u001b[0m 1s/step - accuracy: 0.8869 - loss: 0.2917 - precision: 0.8524 - recall: 0.9246 - val_accuracy: 0.9184 - val_loss: 0.2017 - val_precision: 0.9362 - val_recall: 0.8980 - learning_rate: 0.0010\n",
            "Epoch 9/60\n",
            "\u001b[1m13/13\u001b[0m \u001b[32m━━━━━━━━━━━━━━━━━━━━\u001b[0m\u001b[37m\u001b[0m \u001b[1m0s\u001b[0m 1s/step - accuracy: 0.9021 - loss: 0.2577 - precision: 0.8651 - recall: 0.9547\n",
            "Ignorando val_recall pois val_accuracy não atingiu 0.92\n",
            "\u001b[1m13/13\u001b[0m \u001b[32m━━━━━━━━━━━━━━━━━━━━\u001b[0m\u001b[37m\u001b[0m \u001b[1m18s\u001b[0m 1s/step - accuracy: 0.9017 - loss: 0.2575 - precision: 0.8656 - recall: 0.9529 - val_accuracy: 0.9184 - val_loss: 0.2090 - val_precision: 0.9767 - val_recall: 0.8571 - learning_rate: 0.0010\n",
            "Epoch 10/60\n",
            "\u001b[1m13/13\u001b[0m \u001b[32m━━━━━━━━━━━━━━━━━━━━\u001b[0m\u001b[37m\u001b[0m \u001b[1m19s\u001b[0m 1s/step - accuracy: 0.9173 - loss: 0.2301 - precision: 0.9352 - recall: 0.8945 - val_accuracy: 0.9286 - val_loss: 0.2029 - val_precision: 0.9773 - val_recall: 0.8776 - learning_rate: 0.0010\n",
            "Epoch 11/60\n",
            "\u001b[1m13/13\u001b[0m \u001b[32m━━━━━━━━━━━━━━━━━━━━\u001b[0m\u001b[37m\u001b[0m \u001b[1m0s\u001b[0m 1s/step - accuracy: 0.9096 - loss: 0.2313 - precision: 0.9237 - recall: 0.8960\n",
            "Ignorando val_recall pois val_accuracy não atingiu 0.92\n",
            "\u001b[1m13/13\u001b[0m \u001b[32m━━━━━━━━━━━━━━━━━━━━\u001b[0m\u001b[37m\u001b[0m \u001b[1m18s\u001b[0m 1s/step - accuracy: 0.9088 - loss: 0.2321 - precision: 0.9214 - recall: 0.8969 - val_accuracy: 0.9082 - val_loss: 0.1922 - val_precision: 0.9167 - val_recall: 0.8980 - learning_rate: 0.0010\n",
            "Epoch 12/60\n",
            "\u001b[1m13/13\u001b[0m \u001b[32m━━━━━━━━━━━━━━━━━━━━\u001b[0m\u001b[37m\u001b[0m \u001b[1m0s\u001b[0m 1s/step - accuracy: 0.9161 - loss: 0.2383 - precision: 0.9205 - recall: 0.9185\n",
            "Ignorando val_recall pois val_accuracy não atingiu 0.92\n",
            "\u001b[1m13/13\u001b[0m \u001b[32m━━━━━━━━━━━━━━━━━━━━\u001b[0m\u001b[37m\u001b[0m \u001b[1m19s\u001b[0m 1s/step - accuracy: 0.9158 - loss: 0.2379 - precision: 0.9194 - recall: 0.9185 - val_accuracy: 0.9184 - val_loss: 0.1991 - val_precision: 0.9556 - val_recall: 0.8776 - learning_rate: 0.0010\n",
            "Epoch 13/60\n",
            "\u001b[1m13/13\u001b[0m \u001b[32m━━━━━━━━━━━━━━━━━━━━\u001b[0m\u001b[37m\u001b[0m \u001b[1m18s\u001b[0m 1s/step - accuracy: 0.9235 - loss: 0.2223 - precision: 0.9278 - recall: 0.9298 - val_accuracy: 0.9286 - val_loss: 0.1934 - val_precision: 0.9038 - val_recall: 0.9592 - learning_rate: 0.0010\n",
            "Epoch 14/60\n",
            "\u001b[1m13/13\u001b[0m \u001b[32m━━━━━━━━━━━━━━━━━━━━\u001b[0m\u001b[37m\u001b[0m \u001b[1m0s\u001b[0m 1s/step - accuracy: 0.9171 - loss: 0.2287 - precision: 0.8789 - recall: 0.9472\n",
            "Ignorando val_recall pois val_accuracy não atingiu 0.92\n",
            "\u001b[1m13/13\u001b[0m \u001b[32m━━━━━━━━━━━━━━━━━━━━\u001b[0m\u001b[37m\u001b[0m \u001b[1m18s\u001b[0m 1s/step - accuracy: 0.9171 - loss: 0.2288 - precision: 0.8809 - recall: 0.9459 - val_accuracy: 0.9184 - val_loss: 0.1870 - val_precision: 0.9184 - val_recall: 0.9184 - learning_rate: 0.0010\n",
            "Epoch 15/60\n",
            "\u001b[1m13/13\u001b[0m \u001b[32m━━━━━━━━━━━━━━━━━━━━\u001b[0m\u001b[37m\u001b[0m \u001b[1m0s\u001b[0m 1s/step - accuracy: 0.9041 - loss: 0.2324 - precision: 0.8973 - recall: 0.9221\n",
            "Ignorando val_recall pois val_accuracy não atingiu 0.92\n",
            "\u001b[1m13/13\u001b[0m \u001b[32m━━━━━━━━━━━━━━━━━━━━\u001b[0m\u001b[37m\u001b[0m \u001b[1m20s\u001b[0m 2s/step - accuracy: 0.9042 - loss: 0.2324 - precision: 0.8972 - recall: 0.9219 - val_accuracy: 0.9184 - val_loss: 0.1882 - val_precision: 0.9362 - val_recall: 0.8980 - learning_rate: 0.0010\n",
            "Epoch 16/60\n",
            "\u001b[1m13/13\u001b[0m \u001b[32m━━━━━━━━━━━━━━━━━━━━\u001b[0m\u001b[37m\u001b[0m \u001b[1m0s\u001b[0m 1s/step - accuracy: 0.9095 - loss: 0.2910 - precision: 0.8987 - recall: 0.9328\n",
            "Ignorando val_recall pois val_accuracy não atingiu 0.92\n",
            "\u001b[1m13/13\u001b[0m \u001b[32m━━━━━━━━━━━━━━━━━━━━\u001b[0m\u001b[37m\u001b[0m \u001b[1m18s\u001b[0m 1s/step - accuracy: 0.9094 - loss: 0.2881 - precision: 0.8975 - recall: 0.9336 - val_accuracy: 0.9184 - val_loss: 0.1950 - val_precision: 0.9556 - val_recall: 0.8776 - learning_rate: 0.0010\n",
            "Epoch 17/60\n",
            "\u001b[1m13/13\u001b[0m \u001b[32m━━━━━━━━━━━━━━━━━━━━\u001b[0m\u001b[37m\u001b[0m \u001b[1m0s\u001b[0m 1s/step - accuracy: 0.8933 - loss: 0.2470 - precision: 0.9078 - recall: 0.8962\n",
            "Ignorando val_recall pois val_accuracy não atingiu 0.92\n",
            "\u001b[1m13/13\u001b[0m \u001b[32m━━━━━━━━━━━━━━━━━━━━\u001b[0m\u001b[37m\u001b[0m \u001b[1m18s\u001b[0m 1s/step - accuracy: 0.8942 - loss: 0.2463 - precision: 0.9079 - recall: 0.8967 - val_accuracy: 0.9184 - val_loss: 0.1839 - val_precision: 0.9020 - val_recall: 0.9388 - learning_rate: 0.0010\n",
            "Epoch 18/60\n",
            "\u001b[1m13/13\u001b[0m \u001b[32m━━━━━━━━━━━━━━━━━━━━\u001b[0m\u001b[37m\u001b[0m \u001b[1m19s\u001b[0m 1s/step - accuracy: 0.9059 - loss: 0.2475 - precision: 0.8805 - recall: 0.9286 - val_accuracy: 0.9286 - val_loss: 0.1872 - val_precision: 0.9038 - val_recall: 0.9592 - learning_rate: 0.0010\n",
            "Epoch 19/60\n",
            "\u001b[1m13/13\u001b[0m \u001b[32m━━━━━━━━━━━━━━━━━━━━\u001b[0m\u001b[37m\u001b[0m \u001b[1m0s\u001b[0m 1s/step - accuracy: 0.9231 - loss: 0.2104 - precision: 0.9074 - recall: 0.9356\n",
            "Ignorando val_recall pois val_accuracy não atingiu 0.92\n",
            "\u001b[1m13/13\u001b[0m \u001b[32m━━━━━━━━━━━━━━━━━━━━\u001b[0m\u001b[37m\u001b[0m \u001b[1m18s\u001b[0m 1s/step - accuracy: 0.9224 - loss: 0.2113 - precision: 0.9072 - recall: 0.9348 - val_accuracy: 0.9184 - val_loss: 0.2095 - val_precision: 0.9767 - val_recall: 0.8571 - learning_rate: 0.0010\n",
            "Epoch 20/60\n",
            "\u001b[1m13/13\u001b[0m \u001b[32m━━━━━━━━━━━━━━━━━━━━\u001b[0m\u001b[37m\u001b[0m \u001b[1m0s\u001b[0m 1s/step - accuracy: 0.8764 - loss: 0.2715 - precision: 0.9032 - recall: 0.8491\n",
            "Ignorando val_recall pois val_accuracy não atingiu 0.92\n",
            "\n",
            "Epoch 20: ReduceLROnPlateau reducing learning rate to 0.00020000000949949026.\n",
            "\u001b[1m13/13\u001b[0m \u001b[32m━━━━━━━━━━━━━━━━━━━━\u001b[0m\u001b[37m\u001b[0m \u001b[1m18s\u001b[0m 1s/step - accuracy: 0.8763 - loss: 0.2707 - precision: 0.9008 - recall: 0.8515 - val_accuracy: 0.9184 - val_loss: 0.1932 - val_precision: 0.8868 - val_recall: 0.9592 - learning_rate: 0.0010\n",
            "Epoch 21/60\n",
            "\u001b[1m13/13\u001b[0m \u001b[32m━━━━━━━━━━━━━━━━━━━━\u001b[0m\u001b[37m\u001b[0m \u001b[1m0s\u001b[0m 1s/step - accuracy: 0.8703 - loss: 0.2907 - precision: 0.8425 - recall: 0.9167\n",
            "Ignorando val_recall pois val_accuracy não atingiu 0.92\n",
            "\u001b[1m13/13\u001b[0m \u001b[32m━━━━━━━━━━━━━━━━━━━━\u001b[0m\u001b[37m\u001b[0m \u001b[1m18s\u001b[0m 1s/step - accuracy: 0.8723 - loss: 0.2877 - precision: 0.8441 - recall: 0.9187 - val_accuracy: 0.9082 - val_loss: 0.1857 - val_precision: 0.9167 - val_recall: 0.8980 - learning_rate: 2.0000e-04\n",
            "Epoch 22/60\n",
            "\u001b[1m13/13\u001b[0m \u001b[32m━━━━━━━━━━━━━━━━━━━━\u001b[0m\u001b[37m\u001b[0m \u001b[1m0s\u001b[0m 1s/step - accuracy: 0.8808 - loss: 0.2710 - precision: 0.9152 - recall: 0.8649\n",
            "Ignorando val_recall pois val_accuracy não atingiu 0.92\n",
            "\u001b[1m13/13\u001b[0m \u001b[32m━━━━━━━━━━━━━━━━━━━━\u001b[0m\u001b[37m\u001b[0m \u001b[1m18s\u001b[0m 1s/step - accuracy: 0.8813 - loss: 0.2706 - precision: 0.9135 - recall: 0.8662 - val_accuracy: 0.9082 - val_loss: 0.1845 - val_precision: 0.9000 - val_recall: 0.9184 - learning_rate: 2.0000e-04\n",
            "Epoch 23/60\n",
            "\u001b[1m13/13\u001b[0m \u001b[32m━━━━━━━━━━━━━━━━━━━━\u001b[0m\u001b[37m\u001b[0m \u001b[1m0s\u001b[0m 1s/step - accuracy: 0.9199 - loss: 0.2004 - precision: 0.9156 - recall: 0.9350\n",
            "Ignorando val_recall pois val_accuracy não atingiu 0.92\n",
            "\n",
            "Epoch 23: ReduceLROnPlateau reducing learning rate to 4.0000001899898055e-05.\n",
            "\u001b[1m13/13\u001b[0m \u001b[32m━━━━━━━━━━━━━━━━━━━━\u001b[0m\u001b[37m\u001b[0m \u001b[1m18s\u001b[0m 1s/step - accuracy: 0.9182 - loss: 0.2030 - precision: 0.9127 - recall: 0.9342 - val_accuracy: 0.9184 - val_loss: 0.1843 - val_precision: 0.9184 - val_recall: 0.9184 - learning_rate: 2.0000e-04\n",
            "Epoch 24/60\n",
            "\u001b[1m13/13\u001b[0m \u001b[32m━━━━━━━━━━━━━━━━━━━━\u001b[0m\u001b[37m\u001b[0m \u001b[1m0s\u001b[0m 1s/step - accuracy: 0.8981 - loss: 0.2605 - precision: 0.8785 - recall: 0.9201\n",
            "Ignorando val_recall pois val_accuracy não atingiu 0.92\n",
            "\u001b[1m13/13\u001b[0m \u001b[32m━━━━━━━━━━━━━━━━━━━━\u001b[0m\u001b[37m\u001b[0m \u001b[1m18s\u001b[0m 1s/step - accuracy: 0.8992 - loss: 0.2579 - precision: 0.8807 - recall: 0.9200 - val_accuracy: 0.9184 - val_loss: 0.1843 - val_precision: 0.9184 - val_recall: 0.9184 - learning_rate: 4.0000e-05\n",
            "Epoch 25/60\n",
            "\u001b[1m13/13\u001b[0m \u001b[32m━━━━━━━━━━━━━━━━━━━━\u001b[0m\u001b[37m\u001b[0m \u001b[1m0s\u001b[0m 1s/step - accuracy: 0.9013 - loss: 0.2061 - precision: 0.9015 - recall: 0.8991\n",
            "Ignorando val_recall pois val_accuracy não atingiu 0.92\n",
            "\u001b[1m13/13\u001b[0m \u001b[32m━━━━━━━━━━━━━━━━━━━━\u001b[0m\u001b[37m\u001b[0m \u001b[1m18s\u001b[0m 1s/step - accuracy: 0.9024 - loss: 0.2067 - precision: 0.9027 - recall: 0.9002 - val_accuracy: 0.9082 - val_loss: 0.1839 - val_precision: 0.9000 - val_recall: 0.9184 - learning_rate: 4.0000e-05\n",
            "Epoch 26/60\n",
            "\u001b[1m13/13\u001b[0m \u001b[32m━━━━━━━━━━━━━━━━━━━━\u001b[0m\u001b[37m\u001b[0m \u001b[1m0s\u001b[0m 1s/step - accuracy: 0.8879 - loss: 0.2775 - precision: 0.8364 - recall: 0.9237\n",
            "Ignorando val_recall pois val_accuracy não atingiu 0.92\n",
            "\n",
            "Epoch 26: ReduceLROnPlateau reducing learning rate to 8.000000525498762e-06.\n",
            "\u001b[1m13/13\u001b[0m \u001b[32m━━━━━━━━━━━━━━━━━━━━\u001b[0m\u001b[37m\u001b[0m \u001b[1m18s\u001b[0m 2s/step - accuracy: 0.8875 - loss: 0.2764 - precision: 0.8392 - recall: 0.9215 - val_accuracy: 0.9184 - val_loss: 0.1839 - val_precision: 0.9184 - val_recall: 0.9184 - learning_rate: 4.0000e-05\n",
            "Epoch 27/60\n",
            "\u001b[1m13/13\u001b[0m \u001b[32m━━━━━━━━━━━━━━━━━━━━\u001b[0m\u001b[37m\u001b[0m \u001b[1m0s\u001b[0m 1s/step - accuracy: 0.9091 - loss: 0.2394 - precision: 0.9170 - recall: 0.9065\n",
            "Ignorando val_recall pois val_accuracy não atingiu 0.92\n",
            "\u001b[1m13/13\u001b[0m \u001b[32m━━━━━━━━━━━━━━━━━━━━\u001b[0m\u001b[37m\u001b[0m \u001b[1m18s\u001b[0m 1s/step - accuracy: 0.9092 - loss: 0.2392 - precision: 0.9162 - recall: 0.9074 - val_accuracy: 0.9184 - val_loss: 0.1839 - val_precision: 0.9184 - val_recall: 0.9184 - learning_rate: 8.0000e-06\n",
            "Epoch 28/60\n",
            "\u001b[1m13/13\u001b[0m \u001b[32m━━━━━━━━━━━━━━━━━━━━\u001b[0m\u001b[37m\u001b[0m \u001b[1m0s\u001b[0m 1s/step - accuracy: 0.9188 - loss: 0.1902 - precision: 0.9211 - recall: 0.9270\n",
            "Ignorando val_recall pois val_accuracy não atingiu 0.92\n",
            "\u001b[1m13/13\u001b[0m \u001b[32m━━━━━━━━━━━━━━━━━━━━\u001b[0m\u001b[37m\u001b[0m \u001b[1m19s\u001b[0m 2s/step - accuracy: 0.9197 - loss: 0.1903 - precision: 0.9220 - recall: 0.9271 - val_accuracy: 0.9184 - val_loss: 0.1838 - val_precision: 0.9184 - val_recall: 0.9184 - learning_rate: 8.0000e-06\n",
            "Epoch 29/60\n",
            "\u001b[1m13/13\u001b[0m \u001b[32m━━━━━━━━━━━━━━━━━━━━\u001b[0m\u001b[37m\u001b[0m \u001b[1m0s\u001b[0m 1s/step - accuracy: 0.8782 - loss: 0.2385 - precision: 0.8880 - recall: 0.8908\n",
            "Ignorando val_recall pois val_accuracy não atingiu 0.92\n",
            "\u001b[1m13/13\u001b[0m \u001b[32m━━━━━━━━━━━━━━━━━━━━\u001b[0m\u001b[37m\u001b[0m \u001b[1m19s\u001b[0m 1s/step - accuracy: 0.8789 - loss: 0.2389 - precision: 0.8864 - recall: 0.8928 - val_accuracy: 0.9184 - val_loss: 0.1837 - val_precision: 0.9184 - val_recall: 0.9184 - learning_rate: 8.0000e-06\n",
            "Epoch 30/60\n",
            "\u001b[1m13/13\u001b[0m \u001b[32m━━━━━━━━━━━━━━━━━━━━\u001b[0m\u001b[37m\u001b[0m \u001b[1m0s\u001b[0m 1s/step - accuracy: 0.9036 - loss: 0.2509 - precision: 0.8908 - recall: 0.9246\n",
            "Ignorando val_recall pois val_accuracy não atingiu 0.92\n",
            "\u001b[1m13/13\u001b[0m \u001b[32m━━━━━━━━━━━━━━━━━━━━\u001b[0m\u001b[37m\u001b[0m \u001b[1m19s\u001b[0m 1s/step - accuracy: 0.9036 - loss: 0.2504 - precision: 0.8903 - recall: 0.9249 - val_accuracy: 0.9184 - val_loss: 0.1838 - val_precision: 0.9184 - val_recall: 0.9184 - learning_rate: 8.0000e-06\n",
            "Epoch 31/60\n",
            "\u001b[1m13/13\u001b[0m \u001b[32m━━━━━━━━━━━━━━━━━━━━\u001b[0m\u001b[37m\u001b[0m \u001b[1m0s\u001b[0m 1s/step - accuracy: 0.9359 - loss: 0.1991 - precision: 0.9555 - recall: 0.9224\n",
            "Ignorando val_recall pois val_accuracy não atingiu 0.92\n",
            "\n",
            "Epoch 31: ReduceLROnPlateau reducing learning rate to 1.6000001778593287e-06.\n",
            "\u001b[1m13/13\u001b[0m \u001b[32m━━━━━━━━━━━━━━━━━━━━\u001b[0m\u001b[37m\u001b[0m \u001b[1m18s\u001b[0m 1s/step - accuracy: 0.9359 - loss: 0.2002 - precision: 0.9543 - recall: 0.9232 - val_accuracy: 0.9184 - val_loss: 0.1838 - val_precision: 0.9184 - val_recall: 0.9184 - learning_rate: 8.0000e-06\n",
            "Epoch 32/60\n",
            "\u001b[1m13/13\u001b[0m \u001b[32m━━━━━━━━━━━━━━━━━━━━\u001b[0m\u001b[37m\u001b[0m \u001b[1m0s\u001b[0m 1s/step - accuracy: 0.9183 - loss: 0.2059 - precision: 0.9222 - recall: 0.9199\n",
            "Ignorando val_recall pois val_accuracy não atingiu 0.92\n",
            "\u001b[1m13/13\u001b[0m \u001b[32m━━━━━━━━━━━━━━━━━━━━\u001b[0m\u001b[37m\u001b[0m \u001b[1m19s\u001b[0m 1s/step - accuracy: 0.9180 - loss: 0.2062 - precision: 0.9213 - recall: 0.9199 - val_accuracy: 0.9184 - val_loss: 0.1838 - val_precision: 0.9184 - val_recall: 0.9184 - learning_rate: 1.6000e-06\n",
            "Epoch 33/60\n",
            "\u001b[1m13/13\u001b[0m \u001b[32m━━━━━━━━━━━━━━━━━━━━\u001b[0m\u001b[37m\u001b[0m \u001b[1m0s\u001b[0m 1s/step - accuracy: 0.9109 - loss: 0.2126 - precision: 0.9134 - recall: 0.9175\n",
            "Ignorando val_recall pois val_accuracy não atingiu 0.92\n",
            "\u001b[1m13/13\u001b[0m \u001b[32m━━━━━━━━━━━━━━━━━━━━\u001b[0m\u001b[37m\u001b[0m \u001b[1m18s\u001b[0m 1s/step - accuracy: 0.9112 - loss: 0.2130 - precision: 0.9137 - recall: 0.9172 - val_accuracy: 0.9184 - val_loss: 0.1838 - val_precision: 0.9184 - val_recall: 0.9184 - learning_rate: 1.6000e-06\n",
            "Epoch 34/60\n",
            "\u001b[1m13/13\u001b[0m \u001b[32m━━━━━━━━━━━━━━━━━━━━\u001b[0m\u001b[37m\u001b[0m \u001b[1m0s\u001b[0m 1s/step - accuracy: 0.9223 - loss: 0.2167 - precision: 0.9080 - recall: 0.9400\n",
            "Ignorando val_recall pois val_accuracy não atingiu 0.92\n",
            "\n",
            "Epoch 34: ReduceLROnPlateau reducing learning rate to 1e-06.\n",
            "\u001b[1m13/13\u001b[0m \u001b[32m━━━━━━━━━━━━━━━━━━━━\u001b[0m\u001b[37m\u001b[0m \u001b[1m18s\u001b[0m 2s/step - accuracy: 0.9208 - loss: 0.2178 - precision: 0.9063 - recall: 0.9388 - val_accuracy: 0.9184 - val_loss: 0.1838 - val_precision: 0.9184 - val_recall: 0.9184 - learning_rate: 1.6000e-06\n",
            "Epoch 35/60\n",
            "\u001b[1m13/13\u001b[0m \u001b[32m━━━━━━━━━━━━━━━━━━━━\u001b[0m\u001b[37m\u001b[0m \u001b[1m0s\u001b[0m 1s/step - accuracy: 0.9076 - loss: 0.1973 - precision: 0.9033 - recall: 0.9193\n",
            "Ignorando val_recall pois val_accuracy não atingiu 0.92\n",
            "\u001b[1m13/13\u001b[0m \u001b[32m━━━━━━━━━━━━━━━━━━━━\u001b[0m\u001b[37m\u001b[0m \u001b[1m18s\u001b[0m 1s/step - accuracy: 0.9069 - loss: 0.1986 - precision: 0.9024 - recall: 0.9185 - val_accuracy: 0.9184 - val_loss: 0.1838 - val_precision: 0.9184 - val_recall: 0.9184 - learning_rate: 1.0000e-06\n",
            "Epoch 36/60\n",
            "\u001b[1m13/13\u001b[0m \u001b[32m━━━━━━━━━━━━━━━━━━━━\u001b[0m\u001b[37m\u001b[0m \u001b[1m0s\u001b[0m 1s/step - accuracy: 0.8724 - loss: 0.2503 - precision: 0.8526 - recall: 0.9099\n",
            "Ignorando val_recall pois val_accuracy não atingiu 0.92\n",
            "\u001b[1m13/13\u001b[0m \u001b[32m━━━━━━━━━━━━━━━━━━━━\u001b[0m\u001b[37m\u001b[0m \u001b[1m19s\u001b[0m 1s/step - accuracy: 0.8745 - loss: 0.2494 - precision: 0.8546 - recall: 0.9112 - val_accuracy: 0.9184 - val_loss: 0.1838 - val_precision: 0.9184 - val_recall: 0.9184 - learning_rate: 1.0000e-06\n",
            "Epoch 37/60\n",
            "\u001b[1m13/13\u001b[0m \u001b[32m━━━━━━━━━━━━━━━━━━━━\u001b[0m\u001b[37m\u001b[0m \u001b[1m0s\u001b[0m 1s/step - accuracy: 0.9155 - loss: 0.2569 - precision: 0.9197 - recall: 0.9042\n",
            "Ignorando val_recall pois val_accuracy não atingiu 0.92\n",
            "\u001b[1m13/13\u001b[0m \u001b[32m━━━━━━━━━━━━━━━━━━━━\u001b[0m\u001b[37m\u001b[0m \u001b[1m18s\u001b[0m 1s/step - accuracy: 0.9152 - loss: 0.2560 - precision: 0.9199 - recall: 0.9038 - val_accuracy: 0.9184 - val_loss: 0.1838 - val_precision: 0.9184 - val_recall: 0.9184 - learning_rate: 1.0000e-06\n",
            "Epoch 38/60\n",
            "\u001b[1m13/13\u001b[0m \u001b[32m━━━━━━━━━━━━━━━━━━━━\u001b[0m\u001b[37m\u001b[0m \u001b[1m0s\u001b[0m 1s/step - accuracy: 0.9202 - loss: 0.2113 - precision: 0.9033 - recall: 0.9451\n",
            "Ignorando val_recall pois val_accuracy não atingiu 0.92\n",
            "\u001b[1m13/13\u001b[0m \u001b[32m━━━━━━━━━━━━━━━━━━━━\u001b[0m\u001b[37m\u001b[0m \u001b[1m19s\u001b[0m 1s/step - accuracy: 0.9199 - loss: 0.2119 - precision: 0.9038 - recall: 0.9436 - val_accuracy: 0.9184 - val_loss: 0.1838 - val_precision: 0.9184 - val_recall: 0.9184 - learning_rate: 1.0000e-06\n",
            "Epoch 39/60\n",
            "\u001b[1m13/13\u001b[0m \u001b[32m━━━━━━━━━━━━━━━━━━━━\u001b[0m\u001b[37m\u001b[0m \u001b[1m0s\u001b[0m 1s/step - accuracy: 0.9193 - loss: 0.2627 - precision: 0.8913 - recall: 0.9511\n",
            "Ignorando val_recall pois val_accuracy não atingiu 0.92\n",
            "\u001b[1m13/13\u001b[0m \u001b[32m━━━━━━━━━━━━━━━━━━━━\u001b[0m\u001b[37m\u001b[0m \u001b[1m18s\u001b[0m 1s/step - accuracy: 0.9187 - loss: 0.2612 - precision: 0.8915 - recall: 0.9498 - val_accuracy: 0.9184 - val_loss: 0.1838 - val_precision: 0.9184 - val_recall: 0.9184 - learning_rate: 1.0000e-06\n",
            "Epoch 40/60\n",
            "\u001b[1m13/13\u001b[0m \u001b[32m━━━━━━━━━━━━━━━━━━━━\u001b[0m\u001b[37m\u001b[0m \u001b[1m0s\u001b[0m 1s/step - accuracy: 0.9141 - loss: 0.2202 - precision: 0.8985 - recall: 0.9343\n",
            "Ignorando val_recall pois val_accuracy não atingiu 0.92\n",
            "\u001b[1m13/13\u001b[0m \u001b[32m━━━━━━━━━━━━━━━━━━━━\u001b[0m\u001b[37m\u001b[0m \u001b[1m19s\u001b[0m 1s/step - accuracy: 0.9140 - loss: 0.2196 - precision: 0.8987 - recall: 0.9339 - val_accuracy: 0.9184 - val_loss: 0.1837 - val_precision: 0.9184 - val_recall: 0.9184 - learning_rate: 1.0000e-06\n",
            "Epoch 41/60\n",
            "\u001b[1m13/13\u001b[0m \u001b[32m━━━━━━━━━━━━━━━━━━━━\u001b[0m\u001b[37m\u001b[0m \u001b[1m0s\u001b[0m 1s/step - accuracy: 0.8812 - loss: 0.2735 - precision: 0.8590 - recall: 0.8975\n",
            "Ignorando val_recall pois val_accuracy não atingiu 0.92\n",
            "\u001b[1m13/13\u001b[0m \u001b[32m━━━━━━━━━━━━━━━━━━━━\u001b[0m\u001b[37m\u001b[0m \u001b[1m18s\u001b[0m 1s/step - accuracy: 0.8827 - loss: 0.2709 - precision: 0.8610 - recall: 0.8994 - val_accuracy: 0.9184 - val_loss: 0.1837 - val_precision: 0.9184 - val_recall: 0.9184 - learning_rate: 1.0000e-06\n",
            "Epoch 42/60\n",
            "\u001b[1m13/13\u001b[0m \u001b[32m━━━━━━━━━━━━━━━━━━━━\u001b[0m\u001b[37m\u001b[0m \u001b[1m0s\u001b[0m 1s/step - accuracy: 0.8950 - loss: 0.2689 - precision: 0.8986 - recall: 0.8810\n",
            "Ignorando val_recall pois val_accuracy não atingiu 0.92\n",
            "\u001b[1m13/13\u001b[0m \u001b[32m━━━━━━━━━━━━━━━━━━━━\u001b[0m\u001b[37m\u001b[0m \u001b[1m18s\u001b[0m 1s/step - accuracy: 0.8963 - loss: 0.2665 - precision: 0.9000 - recall: 0.8830 - val_accuracy: 0.9184 - val_loss: 0.1837 - val_precision: 0.9184 - val_recall: 0.9184 - learning_rate: 1.0000e-06\n",
            "Epoch 43/60\n",
            "\u001b[1m13/13\u001b[0m \u001b[32m━━━━━━━━━━━━━━━━━━━━\u001b[0m\u001b[37m\u001b[0m \u001b[1m0s\u001b[0m 1s/step - accuracy: 0.9071 - loss: 0.2342 - precision: 0.8953 - recall: 0.9130\n",
            "Ignorando val_recall pois val_accuracy não atingiu 0.92\n",
            "\u001b[1m13/13\u001b[0m \u001b[32m━━━━━━━━━━━━━━━━━━━━\u001b[0m\u001b[37m\u001b[0m \u001b[1m18s\u001b[0m 1s/step - accuracy: 0.9070 - loss: 0.2342 - precision: 0.8962 - recall: 0.9123 - val_accuracy: 0.9184 - val_loss: 0.1837 - val_precision: 0.9184 - val_recall: 0.9184 - learning_rate: 1.0000e-06\n",
            "Epoch 44/60\n",
            "\u001b[1m13/13\u001b[0m \u001b[32m━━━━━━━━━━━━━━━━━━━━\u001b[0m\u001b[37m\u001b[0m \u001b[1m0s\u001b[0m 1s/step - accuracy: 0.8835 - loss: 0.2424 - precision: 0.8667 - recall: 0.8956\n",
            "Ignorando val_recall pois val_accuracy não atingiu 0.92\n",
            "\u001b[1m13/13\u001b[0m \u001b[32m━━━━━━━━━━━━━━━━━━━━\u001b[0m\u001b[37m\u001b[0m \u001b[1m19s\u001b[0m 1s/step - accuracy: 0.8857 - loss: 0.2402 - precision: 0.8694 - recall: 0.8977 - val_accuracy: 0.9184 - val_loss: 0.1837 - val_precision: 0.9184 - val_recall: 0.9184 - learning_rate: 1.0000e-06\n",
            "Epoch 45/60\n",
            "\u001b[1m13/13\u001b[0m \u001b[32m━━━━━━━━━━━━━━━━━━━━\u001b[0m\u001b[37m\u001b[0m \u001b[1m0s\u001b[0m 1s/step - accuracy: 0.9029 - loss: 0.1973 - precision: 0.8905 - recall: 0.9155\n",
            "Ignorando val_recall pois val_accuracy não atingiu 0.92\n",
            "\u001b[1m13/13\u001b[0m \u001b[32m━━━━━━━━━━━━━━━━━━━━\u001b[0m\u001b[37m\u001b[0m \u001b[1m18s\u001b[0m 1s/step - accuracy: 0.9031 - loss: 0.1978 - precision: 0.8909 - recall: 0.9157 - val_accuracy: 0.9184 - val_loss: 0.1837 - val_precision: 0.9184 - val_recall: 0.9184 - learning_rate: 1.0000e-06\n",
            "Epoch 46/60\n",
            "\u001b[1m13/13\u001b[0m \u001b[32m━━━━━━━━━━━━━━━━━━━━\u001b[0m\u001b[37m\u001b[0m \u001b[1m0s\u001b[0m 1s/step - accuracy: 0.9286 - loss: 0.2039 - precision: 0.9359 - recall: 0.9245\n",
            "Ignorando val_recall pois val_accuracy não atingiu 0.92\n",
            "\u001b[1m13/13\u001b[0m \u001b[32m━━━━━━━━━━━━━━━━━━━━\u001b[0m\u001b[37m\u001b[0m \u001b[1m20s\u001b[0m 2s/step - accuracy: 0.9278 - loss: 0.2047 - precision: 0.9341 - recall: 0.9249 - val_accuracy: 0.9184 - val_loss: 0.1837 - val_precision: 0.9184 - val_recall: 0.9184 - learning_rate: 1.0000e-06\n",
            "Epoch 47/60\n",
            "\u001b[1m13/13\u001b[0m \u001b[32m━━━━━━━━━━━━━━━━━━━━\u001b[0m\u001b[37m\u001b[0m \u001b[1m0s\u001b[0m 1s/step - accuracy: 0.9074 - loss: 0.2231 - precision: 0.8736 - recall: 0.9378\n",
            "Ignorando val_recall pois val_accuracy não atingiu 0.92\n",
            "\u001b[1m13/13\u001b[0m \u001b[32m━━━━━━━━━━━━━━━━━━━━\u001b[0m\u001b[37m\u001b[0m \u001b[1m20s\u001b[0m 2s/step - accuracy: 0.9083 - loss: 0.2223 - precision: 0.8763 - recall: 0.9375 - val_accuracy: 0.9184 - val_loss: 0.1837 - val_precision: 0.9184 - val_recall: 0.9184 - learning_rate: 1.0000e-06\n",
            "Epoch 48/60\n",
            "\u001b[1m13/13\u001b[0m \u001b[32m━━━━━━━━━━━━━━━━━━━━\u001b[0m\u001b[37m\u001b[0m \u001b[1m0s\u001b[0m 1s/step - accuracy: 0.8834 - loss: 0.2383 - precision: 0.8387 - recall: 0.8768\n",
            "Ignorando val_recall pois val_accuracy não atingiu 0.92\n",
            "\u001b[1m13/13\u001b[0m \u001b[32m━━━━━━━━━━━━━━━━━━━━\u001b[0m\u001b[37m\u001b[0m \u001b[1m19s\u001b[0m 2s/step - accuracy: 0.8839 - loss: 0.2393 - precision: 0.8414 - recall: 0.8791 - val_accuracy: 0.9184 - val_loss: 0.1837 - val_precision: 0.9184 - val_recall: 0.9184 - learning_rate: 1.0000e-06\n",
            "Epoch 49/60\n",
            "\u001b[1m13/13\u001b[0m \u001b[32m━━━━━━━━━━━━━━━━━━━━\u001b[0m\u001b[37m\u001b[0m \u001b[1m0s\u001b[0m 1s/step - accuracy: 0.9196 - loss: 0.2295 - precision: 0.9013 - recall: 0.9372\n",
            "Ignorando val_recall pois val_accuracy não atingiu 0.92\n",
            "\u001b[1m13/13\u001b[0m \u001b[32m━━━━━━━━━━━━━━━━━━━━\u001b[0m\u001b[37m\u001b[0m \u001b[1m18s\u001b[0m 1s/step - accuracy: 0.9188 - loss: 0.2304 - precision: 0.9012 - recall: 0.9359 - val_accuracy: 0.9184 - val_loss: 0.1837 - val_precision: 0.9184 - val_recall: 0.9184 - learning_rate: 1.0000e-06\n",
            "Epoch 50/60\n",
            "\u001b[1m13/13\u001b[0m \u001b[32m━━━━━━━━━━━━━━━━━━━━\u001b[0m\u001b[37m\u001b[0m \u001b[1m0s\u001b[0m 1s/step - accuracy: 0.8777 - loss: 0.2495 - precision: 0.8456 - recall: 0.9319\n",
            "Ignorando val_recall pois val_accuracy não atingiu 0.92\n",
            "\u001b[1m13/13\u001b[0m \u001b[32m━━━━━━━━━━━━━━━━━━━━\u001b[0m\u001b[37m\u001b[0m \u001b[1m18s\u001b[0m 1s/step - accuracy: 0.8792 - loss: 0.2486 - precision: 0.8478 - recall: 0.9316 - val_accuracy: 0.9184 - val_loss: 0.1837 - val_precision: 0.9184 - val_recall: 0.9184 - learning_rate: 1.0000e-06\n",
            "Epoch 51/60\n",
            "\u001b[1m13/13\u001b[0m \u001b[32m━━━━━━━━━━━━━━━━━━━━\u001b[0m\u001b[37m\u001b[0m \u001b[1m0s\u001b[0m 1s/step - accuracy: 0.9050 - loss: 0.2093 - precision: 0.8826 - recall: 0.9529\n",
            "Ignorando val_recall pois val_accuracy não atingiu 0.92\n",
            "\u001b[1m13/13\u001b[0m \u001b[32m━━━━━━━━━━━━━━━━━━━━\u001b[0m\u001b[37m\u001b[0m \u001b[1m18s\u001b[0m 1s/step - accuracy: 0.9054 - loss: 0.2102 - precision: 0.8842 - recall: 0.9504 - val_accuracy: 0.9184 - val_loss: 0.1837 - val_precision: 0.9184 - val_recall: 0.9184 - learning_rate: 1.0000e-06\n",
            "Epoch 52/60\n",
            "\u001b[1m13/13\u001b[0m \u001b[32m━━━━━━━━━━━━━━━━━━━━\u001b[0m\u001b[37m\u001b[0m \u001b[1m0s\u001b[0m 1s/step - accuracy: 0.9005 - loss: 0.2500 - precision: 0.8946 - recall: 0.9063\n",
            "Ignorando val_recall pois val_accuracy não atingiu 0.92\n",
            "\u001b[1m13/13\u001b[0m \u001b[32m━━━━━━━━━━━━━━━━━━━━\u001b[0m\u001b[37m\u001b[0m \u001b[1m19s\u001b[0m 1s/step - accuracy: 0.9018 - loss: 0.2480 - precision: 0.8958 - recall: 0.9079 - val_accuracy: 0.9184 - val_loss: 0.1837 - val_precision: 0.9184 - val_recall: 0.9184 - learning_rate: 1.0000e-06\n",
            "Epoch 53/60\n",
            "\u001b[1m13/13\u001b[0m \u001b[32m━━━━━━━━━━━━━━━━━━━━\u001b[0m\u001b[37m\u001b[0m \u001b[1m0s\u001b[0m 1s/step - accuracy: 0.8939 - loss: 0.2463 - precision: 0.9197 - recall: 0.8805\n",
            "Ignorando val_recall pois val_accuracy não atingiu 0.92\n",
            "\u001b[1m13/13\u001b[0m \u001b[32m━━━━━━━━━━━━━━━━━━━━\u001b[0m\u001b[37m\u001b[0m \u001b[1m18s\u001b[0m 1s/step - accuracy: 0.8954 - loss: 0.2454 - precision: 0.9196 - recall: 0.8829 - val_accuracy: 0.9184 - val_loss: 0.1837 - val_precision: 0.9184 - val_recall: 0.9184 - learning_rate: 1.0000e-06\n",
            "Epoch 54/60\n",
            "\u001b[1m13/13\u001b[0m \u001b[32m━━━━━━━━━━━━━━━━━━━━\u001b[0m\u001b[37m\u001b[0m \u001b[1m0s\u001b[0m 1s/step - accuracy: 0.9132 - loss: 0.2109 - precision: 0.8960 - recall: 0.9284\n",
            "Ignorando val_recall pois val_accuracy não atingiu 0.92\n",
            "\u001b[1m13/13\u001b[0m \u001b[32m━━━━━━━━━━━━━━━━━━━━\u001b[0m\u001b[37m\u001b[0m \u001b[1m19s\u001b[0m 1s/step - accuracy: 0.9130 - loss: 0.2110 - precision: 0.8955 - recall: 0.9291 - val_accuracy: 0.9184 - val_loss: 0.1837 - val_precision: 0.9184 - val_recall: 0.9184 - learning_rate: 1.0000e-06\n",
            "Epoch 55/60\n",
            "\u001b[1m13/13\u001b[0m \u001b[32m━━━━━━━━━━━━━━━━━━━━\u001b[0m\u001b[37m\u001b[0m \u001b[1m0s\u001b[0m 1s/step - accuracy: 0.8974 - loss: 0.2276 - precision: 0.8896 - recall: 0.8941\n",
            "Ignorando val_recall pois val_accuracy não atingiu 0.92\n",
            "\u001b[1m13/13\u001b[0m \u001b[32m━━━━━━━━━━━━━━━━━━━━\u001b[0m\u001b[37m\u001b[0m \u001b[1m18s\u001b[0m 1s/step - accuracy: 0.8976 - loss: 0.2279 - precision: 0.8918 - recall: 0.8930 - val_accuracy: 0.9184 - val_loss: 0.1837 - val_precision: 0.9184 - val_recall: 0.9184 - learning_rate: 1.0000e-06\n",
            "Epoch 56/60\n",
            "\u001b[1m13/13\u001b[0m \u001b[32m━━━━━━━━━━━━━━━━━━━━\u001b[0m\u001b[37m\u001b[0m \u001b[1m0s\u001b[0m 1s/step - accuracy: 0.9147 - loss: 0.2321 - precision: 0.9114 - recall: 0.9186\n",
            "Ignorando val_recall pois val_accuracy não atingiu 0.92\n",
            "\u001b[1m13/13\u001b[0m \u001b[32m━━━━━━━━━━━━━━━━━━━━\u001b[0m\u001b[37m\u001b[0m \u001b[1m19s\u001b[0m 1s/step - accuracy: 0.9139 - loss: 0.2317 - precision: 0.9108 - recall: 0.9175 - val_accuracy: 0.9184 - val_loss: 0.1837 - val_precision: 0.9184 - val_recall: 0.9184 - learning_rate: 1.0000e-06\n",
            "Epoch 57/60\n",
            "\u001b[1m13/13\u001b[0m \u001b[32m━━━━━━━━━━━━━━━━━━━━\u001b[0m\u001b[37m\u001b[0m \u001b[1m0s\u001b[0m 1s/step - accuracy: 0.9182 - loss: 0.2070 - precision: 0.9189 - recall: 0.9089\n",
            "Ignorando val_recall pois val_accuracy não atingiu 0.92\n",
            "\u001b[1m13/13\u001b[0m \u001b[32m━━━━━━━━━━━━━━━━━━━━\u001b[0m\u001b[37m\u001b[0m \u001b[1m18s\u001b[0m 1s/step - accuracy: 0.9182 - loss: 0.2071 - precision: 0.9183 - recall: 0.9104 - val_accuracy: 0.9184 - val_loss: 0.1837 - val_precision: 0.9184 - val_recall: 0.9184 - learning_rate: 1.0000e-06\n",
            "Epoch 58/60\n",
            "\u001b[1m13/13\u001b[0m \u001b[32m━━━━━━━━━━━━━━━━━━━━\u001b[0m\u001b[37m\u001b[0m \u001b[1m0s\u001b[0m 1s/step - accuracy: 0.9305 - loss: 0.2053 - precision: 0.9375 - recall: 0.9190\n",
            "Ignorando val_recall pois val_accuracy não atingiu 0.92\n",
            "\u001b[1m13/13\u001b[0m \u001b[32m━━━━━━━━━━━━━━━━━━━━\u001b[0m\u001b[37m\u001b[0m \u001b[1m19s\u001b[0m 1s/step - accuracy: 0.9297 - loss: 0.2065 - precision: 0.9353 - recall: 0.9201 - val_accuracy: 0.9184 - val_loss: 0.1836 - val_precision: 0.9184 - val_recall: 0.9184 - learning_rate: 1.0000e-06\n",
            "Epoch 59/60\n",
            "\u001b[1m13/13\u001b[0m \u001b[32m━━━━━━━━━━━━━━━━━━━━\u001b[0m\u001b[37m\u001b[0m \u001b[1m0s\u001b[0m 1s/step - accuracy: 0.9200 - loss: 0.2227 - precision: 0.9008 - recall: 0.9350\n",
            "Ignorando val_recall pois val_accuracy não atingiu 0.92\n",
            "\u001b[1m13/13\u001b[0m \u001b[32m━━━━━━━━━━━━━━━━━━━━\u001b[0m\u001b[37m\u001b[0m \u001b[1m18s\u001b[0m 1s/step - accuracy: 0.9191 - loss: 0.2228 - precision: 0.9002 - recall: 0.9346 - val_accuracy: 0.9184 - val_loss: 0.1836 - val_precision: 0.9184 - val_recall: 0.9184 - learning_rate: 1.0000e-06\n",
            "Epoch 60/60\n",
            "\u001b[1m13/13\u001b[0m \u001b[32m━━━━━━━━━━━━━━━━━━━━\u001b[0m\u001b[37m\u001b[0m \u001b[1m0s\u001b[0m 1s/step - accuracy: 0.9039 - loss: 0.2081 - precision: 0.9124 - recall: 0.9016\n",
            "Ignorando val_recall pois val_accuracy não atingiu 0.92\n",
            "\u001b[1m13/13\u001b[0m \u001b[32m━━━━━━━━━━━━━━━━━━━━\u001b[0m\u001b[37m\u001b[0m \u001b[1m19s\u001b[0m 1s/step - accuracy: 0.9040 - loss: 0.2086 - precision: 0.9121 - recall: 0.9017 - val_accuracy: 0.9184 - val_loss: 0.1836 - val_precision: 0.9184 - val_recall: 0.9184 - learning_rate: 1.0000e-06\n",
            "Treinamento concluído!\n"
          ]
        }
      ]
    },
    {
      "cell_type": "markdown",
      "source": [
        "## Validação do modelo"
      ],
      "metadata": {
        "id": "9NYA-nBsfZqU"
      }
    },
    {
      "cell_type": "markdown",
      "source": [
        "### Funções"
      ],
      "metadata": {
        "id": "lg3aIZVHCd-C"
      }
    },
    {
      "cell_type": "code",
      "source": [
        "def plot_training_history(history):\n",
        "    fig, axes = plt.subplots(2, 2, figsize = (15, 10)) # Cria uma grade 2x2 de gráficos com as posições [0,0], [0,1]... que vou utilizar com os axes\n",
        "\n",
        "    # Perda\n",
        "    axes[0, 0].plot(history.history['loss'], label = 'Treino', color = 'blue')\n",
        "    axes[0,0].plot(history.history['val_loss'], label = 'Validação', color = 'red')\n",
        "    axes[0,0].set_title('Funcao de Perda')\n",
        "    axes[0,0].set_xlabel('Época')\n",
        "    axes[0,0].set_ylabel('Perda')\n",
        "    axes[0,0].legend() # Exibe a legenda no gráfico\n",
        "\n",
        "    # Acurácia\n",
        "    axes[0, 1].plot(history.history['accuracy'], label = 'Treino', color = 'blue')\n",
        "    axes[0, 1].plot(history.history['val_accuracy'], label = 'Validação', color = 'red')\n",
        "    axes[0, 1].set_title('Acurácia')\n",
        "    axes[0, 1].set_xlabel('Época')\n",
        "    axes[0, 1].set_ylabel('Acurácia')\n",
        "    axes[0,1].legend()\n",
        "\n",
        "    # Recall (métrica principal)\n",
        "    axes[1, 0].plot(history.history['recall'], label = 'Treino', color = 'blue')\n",
        "    axes[1, 0].plot(history.history['val_recall'], label = 'Validação', color = 'red')\n",
        "    axes[1, 0].set_title('Recall')\n",
        "    axes[1, 0].set_xlabel('Época')\n",
        "    axes[1, 0].set_ylabel('Recall')\n",
        "    axes[1, 0].legend()\n",
        "\n",
        "    # Precisão\n",
        "    axes[1, 1].plot(history.history['precision'], label = 'Treino', color = 'blue')\n",
        "    axes[1, 1].plot(history.history['val_precision'], label = 'Validação', color = 'red')\n",
        "    axes[1, 1].set_title('Precisão')\n",
        "    axes[1, 1].set_xlabel('Época')\n",
        "    axes[1, 1].set_ylabel('Precisão')\n",
        "    axes[1, 1].legend()\n",
        "\n",
        "    plt.tight_layout() # Ajusta o layout para caber tudo na tela\n",
        "    plt.show()"
      ],
      "metadata": {
        "id": "d_AxCHEOCftw"
      },
      "execution_count": 25,
      "outputs": []
    },
    {
      "cell_type": "markdown",
      "source": [
        "### Imprimindo os gráficos de validação"
      ],
      "metadata": {
        "id": "cFnUnLDtDCm5"
      }
    },
    {
      "cell_type": "code",
      "source": [
        "plot_training_history(history)"
      ],
      "metadata": {
        "colab": {
          "base_uri": "https://localhost:8080/",
          "height": 141
        },
        "id": "UTEl94pKDFxN",
        "outputId": "38d72d67-b7c4-4981-cadb-2b0e84fe867a"
      },
      "execution_count": 26,
      "outputs": [
        {
          "output_type": "error",
          "ename": "NameError",
          "evalue": "name 'history' is not defined",
          "traceback": [
            "\u001b[0;31m---------------------------------------------------------------------------\u001b[0m",
            "\u001b[0;31mNameError\u001b[0m                                 Traceback (most recent call last)",
            "\u001b[0;32m/tmp/ipython-input-1598094200.py\u001b[0m in \u001b[0;36m<cell line: 0>\u001b[0;34m()\u001b[0m\n\u001b[0;32m----> 1\u001b[0;31m \u001b[0mplot_training_history\u001b[0m\u001b[0;34m(\u001b[0m\u001b[0mhistory\u001b[0m\u001b[0;34m)\u001b[0m\u001b[0;34m\u001b[0m\u001b[0;34m\u001b[0m\u001b[0m\n\u001b[0m",
            "\u001b[0;31mNameError\u001b[0m: name 'history' is not defined"
          ]
        }
      ]
    },
    {
      "cell_type": "markdown",
      "source": [
        "## Teste do modelo"
      ],
      "metadata": {
        "id": "Mik7D1PVfVhJ"
      }
    },
    {
      "cell_type": "markdown",
      "source": [
        "### Parâmetros"
      ],
      "metadata": {
        "id": "meOaIekgEDWv"
      }
    },
    {
      "cell_type": "code",
      "source": [
        "THRESHOLD = 0.5 # Define o limite superior para que o modelo considere que é da classe 0. Ou seja, o que é <= THRESHOLD é 0 e o que é > é 1\n",
        "POSITIVE_LABEL = 0 # Define qual rótulo que representa positivo. Ou seja, catarata foi rotulada com qual valor? 0 ou 1?"
      ],
      "metadata": {
        "id": "V2pFYgAJEEze"
      },
      "execution_count": 69,
      "outputs": []
    },
    {
      "cell_type": "markdown",
      "source": [
        "### Recuperando o melhor modelo salvo pelo checkpoint model"
      ],
      "metadata": {
        "id": "5B557ZeQDeeU"
      }
    },
    {
      "cell_type": "code",
      "source": [
        "print(\"Carregando o melhor modelo salvo...\")\n",
        "model.load_weights(f'best_model_{base_model.name}.keras')\n",
        "print(\"Modelo carregado!\")"
      ],
      "metadata": {
        "colab": {
          "base_uri": "https://localhost:8080/"
        },
        "id": "KWNqmH1wDiGh",
        "outputId": "72365cf1-7747-41c3-9480-a9a26cffc89b"
      },
      "execution_count": 70,
      "outputs": [
        {
          "output_type": "stream",
          "name": "stdout",
          "text": [
            "Carregando o melhor modelo salvo...\n",
            "Modelo carregado!\n"
          ]
        }
      ]
    },
    {
      "cell_type": "markdown",
      "source": [
        "### Fazendo as predições para o conjunto de teste"
      ],
      "metadata": {
        "id": "bF-7ql0VDvAq"
      }
    },
    {
      "cell_type": "code",
      "source": [
        "print(\"Fazendo predições no conjunto de teste...\")\n",
        "test_predictions = model.predict(test_generator) # usa o modelo e faz previsões nos dados gerados para teste\n",
        "print(f\"Predições feitas em {len(test_predictions)} amostras.\")"
      ],
      "metadata": {
        "colab": {
          "base_uri": "https://localhost:8080/"
        },
        "id": "NpoWonReDx2k",
        "outputId": "8e550d89-bc5b-4c0e-9ef4-a6d439b560be"
      },
      "execution_count": 71,
      "outputs": [
        {
          "output_type": "stream",
          "name": "stdout",
          "text": [
            "Fazendo predições no conjunto de teste...\n"
          ]
        },
        {
          "output_type": "stream",
          "name": "stderr",
          "text": [
            "/usr/local/lib/python3.12/dist-packages/keras/src/trainers/data_adapters/py_dataset_adapter.py:121: UserWarning: Your `PyDataset` class should call `super().__init__(**kwargs)` in its constructor. `**kwargs` can include `workers`, `use_multiprocessing`, `max_queue_size`. Do not pass these arguments to `fit()`, as they will be ignored.\n",
            "  self._warn_if_super_not_called()\n"
          ]
        },
        {
          "output_type": "stream",
          "name": "stdout",
          "text": [
            "\u001b[1m4/4\u001b[0m \u001b[32m━━━━━━━━━━━━━━━━━━━━\u001b[0m\u001b[37m\u001b[0m \u001b[1m15s\u001b[0m 4s/step\n",
            "Predições feitas em 121 amostras.\n"
          ]
        }
      ]
    },
    {
      "cell_type": "markdown",
      "source": [
        "### Convertendo os resultados em classes binárias com o threshold"
      ],
      "metadata": {
        "id": "HiOBCRCmEUjM"
      }
    },
    {
      "cell_type": "code",
      "source": [
        "test_labels = test_generator.classes # Obtém os resultados verdadeiros. Ou seja, os rótulos originais, ou resultados desejados\n",
        "predicted_classes = (test_predictions > THRESHOLD).astype(int) # Converte os resultados do modelo em 0 e 1 baseado no threshold\n",
        "predicted_classes = predicted_classes.reshape(-1) # Remove uma dimensão, pois o resultado do modelo é uma matriz de uma coluna e queremos um vetor\n",
        "\n",
        "print(f\"Rótulos verdadeiros: {test_labels}\")\n",
        "print(f\"Predições: {predicted_classes}\")"
      ],
      "metadata": {
        "colab": {
          "base_uri": "https://localhost:8080/"
        },
        "id": "MH91T7C9EfA8",
        "outputId": "60779237-db68-4902-8ae8-908ad0863e62"
      },
      "execution_count": 72,
      "outputs": [
        {
          "output_type": "stream",
          "name": "stdout",
          "text": [
            "Rótulos verdadeiros: [0 0 0 0 0 0 0 0 0 0 0 0 0 0 0 0 0 0 0 0 0 0 0 0 0 0 0 0 0 0 0 0 0 0 0 0 0\n",
            " 0 0 0 0 0 0 0 0 0 0 0 0 0 0 0 0 0 0 0 0 0 0 0 0 1 1 1 1 1 1 1 1 1 1 1 1 1\n",
            " 1 1 1 1 1 1 1 1 1 1 1 1 1 1 1 1 1 1 1 1 1 1 1 1 1 1 1 1 1 1 1 1 1 1 1 1 1\n",
            " 1 1 1 1 1 1 1 1 1 1]\n",
            "Predições: [0 0 0 0 0 0 0 1 0 0 0 0 0 0 0 0 0 0 0 0 0 0 0 0 0 0 0 1 0 0 0 0 0 1 0 0 0\n",
            " 0 0 0 0 0 0 0 0 0 0 0 0 0 1 0 0 0 0 0 0 0 0 0 0 1 1 1 1 1 1 1 1 1 1 1 1 1\n",
            " 1 1 1 1 1 1 1 1 1 1 1 1 1 1 0 1 1 1 1 1 1 1 1 1 1 1 1 1 1 1 1 1 1 1 1 1 0\n",
            " 1 1 1 1 1 1 1 1 0 1]\n"
          ]
        }
      ]
    },
    {
      "cell_type": "markdown",
      "source": [
        "### Exibindo os resultados"
      ],
      "metadata": {
        "id": "u6Eb8ucfGra0"
      }
    },
    {
      "cell_type": "markdown",
      "source": [
        "#### Matriz de confusão"
      ],
      "metadata": {
        "id": "wPeATYnDGtJp"
      }
    },
    {
      "cell_type": "code",
      "source": [
        "cm = confusion_matrix(test_labels, predicted_classes) # Cria a matriz\n",
        "\n",
        "# Plotar a matriz\n",
        "plt.figure(figsize=(10,8))\n",
        "\n",
        "sns.heatmap(\n",
        "    cm,\n",
        "    annot = True, # plotar os valores\n",
        "    fmt = 'd', # Formato inteiro\n",
        "    cmap = 'Blues',  # Mapa de cores a ser usado, no caso, azul\n",
        "    xticklabels = ['Cataract', 'Normal'], # Labels X\n",
        "    yticklabels = ['Cataract', 'Normal'], # Labels Y\n",
        "    cbar_kws = {'label': 'Quantidade'} # legenda da barra de cores\n",
        ")\n",
        "\n",
        "plt.title(\"Matriz de Confusão\")\n",
        "plt.xlabel(\"Predição\", fontsize = 12)\n",
        "plt.ylabel(\"Verdadeiro\", fontsize = 12)\n",
        "\n",
        "# Adicionando texto explicativo\n",
        "plt.figtext(\n",
        "    0.02,\n",
        "    0.02,\n",
        "    'Legenda:\\n'\n",
        "    'Cataract = 0 (Positivo)\\n'\n",
        "    'Normal = 1 (Negativo)\\n'\n",
        "    'Diagonal principal = Acertos\\n'\n",
        "    'Fora da diagonal = Erros',\n",
        "    fontsize = 9,\n",
        "    style = 'italic'\n",
        ")\n",
        "\n",
        "plt.tight_layout()\n",
        "plt.show()\n",
        "\n",
        "tp, fn, fp, tn = cm.ravel() # desempacota a matriz de confusão nas variáveis\n",
        "\n",
        "print(f\"• Verdadeiros Positivos (TP): {tp} - Cataratas detectadas corretamente\")\n",
        "print(f\"• Verdadeiros Negativos (TN): {tn} - Normais detectados corretamente\")\n",
        "print(f\"• Falsos Positivos (FP): {fp} - Normais classificados como catarata\")\n",
        "print(f\"• Falsos Negativos (FN): {fn} - Cataratas perdidas (CRÍTICO!)\")"
      ],
      "metadata": {
        "colab": {
          "base_uri": "https://localhost:8080/",
          "height": 878
        },
        "id": "egs1A4utGu7b",
        "outputId": "6a4dd723-94d7-44b8-f0fe-1ed51651c0dc"
      },
      "execution_count": 73,
      "outputs": [
        {
          "output_type": "display_data",
          "data": {
            "text/plain": [
              "<Figure size 1000x800 with 2 Axes>"
            ],
            "image/png": "[encoded data removed]"
          },
          "metadata": {}
        },
        {
          "output_type": "stream",
          "name": "stdout",
          "text": [
            "• Verdadeiros Positivos (TP): 57 - Cataratas detectadas corretamente\n",
            "• Verdadeiros Negativos (TN): 57 - Normais detectados corretamente\n",
            "• Falsos Positivos (FP): 3 - Normais classificados como catarata\n",
            "• Falsos Negativos (FN): 4 - Cataratas perdidas (CRÍTICO!)\n"
          ]
        }
      ]
    },
    {
      "cell_type": "markdown",
      "source": [
        "#### Métricas de avaliação gerais"
      ],
      "metadata": {
        "id": "JA-CnNKsJiVI"
      }
    },
    {
      "cell_type": "code",
      "source": [
        "accuracy = accuracy_score(test_labels, predicted_classes) # Acurácia\n",
        "precision = precision_score(test_labels, predicted_classes, pos_label = POSITIVE_LABEL) # Precisão\n",
        "recall = recall_score(test_labels, predicted_classes, pos_label = POSITIVE_LABEL) # Recall\n",
        "f1 = f1_score(test_labels, predicted_classes, pos_label = POSITIVE_LABEL) # F1 Score\n",
        "\n",
        "print(\"METRICAS DE AVALIAÇÃO DO MODELO NO GERAL\\n\")\n",
        "print(f\"Recall: {recall}\")\n",
        "print(f\"Acurácia: {accuracy}\")\n",
        "print(f\"Precisão: {precision}\")\n",
        "print(f\"F1 Score: {f1}\")"
      ],
      "metadata": {
        "colab": {
          "base_uri": "https://localhost:8080/"
        },
        "id": "RHtgCtuRJmSw",
        "outputId": "ece9ed0a-804f-474b-a3e4-1116dab1c2e6"
      },
      "execution_count": 74,
      "outputs": [
        {
          "output_type": "stream",
          "name": "stdout",
          "text": [
            "METRICAS DE AVALIAÇÃO DO MODELO NO GERAL\n",
            "\n",
            "Recall: 0.9344262295081968\n",
            "Acurácia: 0.9421487603305785\n",
            "Precisão: 0.95\n",
            "F1 Score: 0.9421487603305785\n"
          ]
        }
      ]
    },
    {
      "cell_type": "markdown",
      "source": [
        "#### Métricas de avaliação por classe"
      ],
      "metadata": {
        "id": "XA8KYcoEKpi9"
      }
    },
    {
      "cell_type": "code",
      "source": [
        "print(\"METRICAS DE AVALIAÇÃO DO MODELO NO GERAL\\n\")\n",
        "print(classification_report(test_labels, predicted_classes))\n",
        "\n",
        "# Adicionar a curva do treino no gráfico."
      ],
      "metadata": {
        "colab": {
          "base_uri": "https://localhost:8080/"
        },
        "id": "wgzSHDRgKv2y",
        "outputId": "f128004a-6e8e-430f-cd42-e94e48fd7f83"
      },
      "execution_count": 75,
      "outputs": [
        {
          "output_type": "stream",
          "name": "stdout",
          "text": [
            "METRICAS DE AVALIAÇÃO DO MODELO NO GERAL\n",
            "\n",
            "              precision    recall  f1-score   support\n",
            "\n",
            "           0       0.95      0.93      0.94        61\n",
            "           1       0.93      0.95      0.94        60\n",
            "\n",
            "    accuracy                           0.94       121\n",
            "   macro avg       0.94      0.94      0.94       121\n",
            "weighted avg       0.94      0.94      0.94       121\n",
            "\n"
          ]
        }
      ]
    }
  ]
}